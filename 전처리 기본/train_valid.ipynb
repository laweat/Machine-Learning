{
 "cells": [
  {
   "cell_type": "code",
   "execution_count": 1,
   "id": "6a2ddac0-56c3-4e03-831d-b6d48b93cdea",
   "metadata": {},
   "outputs": [],
   "source": [
    "from sklearn.linear_model import LinearRegression\n",
    "from sklearn.model_selection import train_test_split\n",
    "import numpy as np\n",
    "import pandas as pd"
   ]
  },
  {
   "cell_type": "code",
   "execution_count": 2,
   "id": "28a30789-f659-44d2-ac15-81cf8d4d9b8e",
   "metadata": {},
   "outputs": [],
   "source": [
    "#변수\n",
    "x = np.arange(10).reshape(-1,1)\n",
    "y = (2*x+1).reshape(-1,1)"
   ]
  },
  {
   "cell_type": "code",
   "execution_count": 3,
   "id": "ae611d86-02d5-4719-899a-aa76089d1a55",
   "metadata": {},
   "outputs": [
    {
     "data": {
      "text/plain": [
       "LinearRegression()"
      ]
     },
     "execution_count": 3,
     "metadata": {},
     "output_type": "execute_result"
    }
   ],
   "source": [
    "#모델 선언\n",
    "model = LinearRegression()\n",
    "\n",
    "#모델 학습 fit(데이터, 예측값)\n",
    "model.fit(x, y)"
   ]
  },
  {
   "cell_type": "code",
   "execution_count": 5,
   "id": "98156614-148d-4e63-92ad-5abb12a9402f",
   "metadata": {},
   "outputs": [
    {
     "data": {
      "text/plain": [
       "array([[21.]])"
      ]
     },
     "execution_count": 5,
     "metadata": {},
     "output_type": "execute_result"
    }
   ],
   "source": [
    "#모델 예측\n",
    "prediction = model.predict([[10.0]])\n",
    "\n",
    "#예측값 확인\n",
    "prediction"
   ]
  },
  {
   "cell_type": "code",
   "execution_count": null,
   "id": "94299852-bb32-4ca5-ae5e-ff0c89a13056",
   "metadata": {},
   "outputs": [],
   "source": [
    "\"\"\"\n",
    "X: \n",
    "-features라고 불림\n",
    "-x_train, x_test\n",
    "-학습을 위한 데이터 세트, 예측할 값은 빠져있음.\n",
    "-ex) 지역, 평형정보, 층수정보, 동네, 거주민 평균나이...\n",
    "\n",
    "Y:\n",
    "-labels라고 불림\n",
    "-y_train, y_test\n",
    "-예측해야할 값, 예측값만 존재\n",
    "-ex) 집 값\n",
    "\n",
    "학습을 위한 데이터 = Training Set\n",
    "- 모델이 학습하기 위해 필요한 데이터\n",
    "- feature / label이 모두 존재\n",
    "\n",
    "예측을 위한 데이터 = Test Set\n",
    "-모델이 예측하기 위한 데이터\n",
    "-feature 만 존재\n",
    "\n",
    "코드예시\n",
    "model = LinearRegression()\n",
    "model.fit(x_train, y_train)\n",
    "prediction = model.predict(x_test)\n",
    "\"\"\"\n",
    "#검증데이터\n",
    "\"\"\"\n",
    "과대적합 / 과소적합\n",
    "Training Error는 학습할수록 계속 떨어짐\n",
    "Testing Error는 어느지점까지는 떨어지다가 다시 올라감\n",
    "이 두지점이 같이 가장 적은 Error가있는 지점을 찾는것이 임무!\n",
    "\n",
    "Training Set \n",
    "-Training Set = 학습을 위한 데이터 (80%)\n",
    "-Validation Set = 검증을 위한 데이터 (20%)\n",
    "Test Set\n",
    "\n",
    "*절대 학습할때 Validation Set가 관여되면 안됨 (섞이면 X)\n",
    "\"\"\"\n",
    "\"\"\"\n",
    "1.정규화\n",
    "-0~1사이의 분포로 조정\n",
    "\n",
    "2. 표준화\n",
    "-평균을 0, 표준편차를 1로 맞춤\n",
    "\"\"\""
   ]
  },
  {
   "cell_type": "code",
   "execution_count": null,
   "id": "4d16a171-8739-49c4-bb2e-1ce748210630",
   "metadata": {},
   "outputs": [],
   "source": [
    "#실습"
   ]
  },
  {
   "cell_type": "code",
   "execution_count": 6,
   "id": "05137c1c-a4eb-4ed5-a6c0-8760f1590464",
   "metadata": {},
   "outputs": [],
   "source": [
    "#타이타닉 데이터셋(출처: 캐글)\n",
    "train = pd.read_csv('https://bit.ly/fc-ml-titanic')"
   ]
  },
  {
   "cell_type": "code",
   "execution_count": 7,
   "id": "79d5b321-a70d-4561-bcf3-1a31d07a1880",
   "metadata": {},
   "outputs": [
    {
     "data": {
      "text/html": [
       "<div>\n",
       "<style scoped>\n",
       "    .dataframe tbody tr th:only-of-type {\n",
       "        vertical-align: middle;\n",
       "    }\n",
       "\n",
       "    .dataframe tbody tr th {\n",
       "        vertical-align: top;\n",
       "    }\n",
       "\n",
       "    .dataframe thead th {\n",
       "        text-align: right;\n",
       "    }\n",
       "</style>\n",
       "<table border=\"1\" class=\"dataframe\">\n",
       "  <thead>\n",
       "    <tr style=\"text-align: right;\">\n",
       "      <th></th>\n",
       "      <th>PassengerId</th>\n",
       "      <th>Survived</th>\n",
       "      <th>Pclass</th>\n",
       "      <th>Name</th>\n",
       "      <th>Sex</th>\n",
       "      <th>Age</th>\n",
       "      <th>SibSp</th>\n",
       "      <th>Parch</th>\n",
       "      <th>Ticket</th>\n",
       "      <th>Fare</th>\n",
       "      <th>Cabin</th>\n",
       "      <th>Embarked</th>\n",
       "    </tr>\n",
       "  </thead>\n",
       "  <tbody>\n",
       "    <tr>\n",
       "      <th>0</th>\n",
       "      <td>1</td>\n",
       "      <td>0</td>\n",
       "      <td>3</td>\n",
       "      <td>Braund, Mr. Owen Harris</td>\n",
       "      <td>male</td>\n",
       "      <td>22.0</td>\n",
       "      <td>1</td>\n",
       "      <td>0</td>\n",
       "      <td>A/5 21171</td>\n",
       "      <td>7.2500</td>\n",
       "      <td>NaN</td>\n",
       "      <td>S</td>\n",
       "    </tr>\n",
       "    <tr>\n",
       "      <th>1</th>\n",
       "      <td>2</td>\n",
       "      <td>1</td>\n",
       "      <td>1</td>\n",
       "      <td>Cumings, Mrs. John Bradley (Florence Briggs Th...</td>\n",
       "      <td>female</td>\n",
       "      <td>38.0</td>\n",
       "      <td>1</td>\n",
       "      <td>0</td>\n",
       "      <td>PC 17599</td>\n",
       "      <td>71.2833</td>\n",
       "      <td>C85</td>\n",
       "      <td>C</td>\n",
       "    </tr>\n",
       "    <tr>\n",
       "      <th>2</th>\n",
       "      <td>3</td>\n",
       "      <td>1</td>\n",
       "      <td>3</td>\n",
       "      <td>Heikkinen, Miss. Laina</td>\n",
       "      <td>female</td>\n",
       "      <td>26.0</td>\n",
       "      <td>0</td>\n",
       "      <td>0</td>\n",
       "      <td>STON/O2. 3101282</td>\n",
       "      <td>7.9250</td>\n",
       "      <td>NaN</td>\n",
       "      <td>S</td>\n",
       "    </tr>\n",
       "    <tr>\n",
       "      <th>3</th>\n",
       "      <td>4</td>\n",
       "      <td>1</td>\n",
       "      <td>1</td>\n",
       "      <td>Futrelle, Mrs. Jacques Heath (Lily May Peel)</td>\n",
       "      <td>female</td>\n",
       "      <td>35.0</td>\n",
       "      <td>1</td>\n",
       "      <td>0</td>\n",
       "      <td>113803</td>\n",
       "      <td>53.1000</td>\n",
       "      <td>C123</td>\n",
       "      <td>S</td>\n",
       "    </tr>\n",
       "    <tr>\n",
       "      <th>4</th>\n",
       "      <td>5</td>\n",
       "      <td>0</td>\n",
       "      <td>3</td>\n",
       "      <td>Allen, Mr. William Henry</td>\n",
       "      <td>male</td>\n",
       "      <td>35.0</td>\n",
       "      <td>0</td>\n",
       "      <td>0</td>\n",
       "      <td>373450</td>\n",
       "      <td>8.0500</td>\n",
       "      <td>NaN</td>\n",
       "      <td>S</td>\n",
       "    </tr>\n",
       "  </tbody>\n",
       "</table>\n",
       "</div>"
      ],
      "text/plain": [
       "   PassengerId  Survived  Pclass  \\\n",
       "0            1         0       3   \n",
       "1            2         1       1   \n",
       "2            3         1       3   \n",
       "3            4         1       1   \n",
       "4            5         0       3   \n",
       "\n",
       "                                                Name     Sex   Age  SibSp  \\\n",
       "0                            Braund, Mr. Owen Harris    male  22.0      1   \n",
       "1  Cumings, Mrs. John Bradley (Florence Briggs Th...  female  38.0      1   \n",
       "2                             Heikkinen, Miss. Laina  female  26.0      0   \n",
       "3       Futrelle, Mrs. Jacques Heath (Lily May Peel)  female  35.0      1   \n",
       "4                           Allen, Mr. William Henry    male  35.0      0   \n",
       "\n",
       "   Parch            Ticket     Fare Cabin Embarked  \n",
       "0      0         A/5 21171   7.2500   NaN        S  \n",
       "1      0          PC 17599  71.2833   C85        C  \n",
       "2      0  STON/O2. 3101282   7.9250   NaN        S  \n",
       "3      0            113803  53.1000  C123        S  \n",
       "4      0            373450   8.0500   NaN        S  "
      ]
     },
     "execution_count": 7,
     "metadata": {},
     "output_type": "execute_result"
    }
   ],
   "source": [
    "train.head()"
   ]
  },
  {
   "cell_type": "code",
   "execution_count": 8,
   "id": "4fa0a51b-9efe-46b1-96f3-3809dc9c0835",
   "metadata": {},
   "outputs": [
    {
     "ename": "SyntaxError",
     "evalue": "EOF while scanning triple-quoted string literal (<ipython-input-8-dc48ac975d2b>, line 14)",
     "output_type": "error",
     "traceback": [
      "\u001b[1;36m  File \u001b[1;32m\"<ipython-input-8-dc48ac975d2b>\"\u001b[1;36m, line \u001b[1;32m14\u001b[0m\n\u001b[1;33m    Embarked: 탑승 항구\u001b[0m\n\u001b[1;37m                   \n^\u001b[0m\n\u001b[1;31mSyntaxError\u001b[0m\u001b[1;31m:\u001b[0m EOF while scanning triple-quoted string literal\n"
     ]
    }
   ],
   "source": [
    "#컬럼설명\n",
    "\"\"\"\n",
    "PassengerId: 승객 아이디\n",
    "Survived: 생존여부 1: 생존 0: 사망\n",
    "Pclass: 등급\n",
    "Name: 성함\n",
    "Sex: 성별\n",
    "Age: 나이\n",
    "SibSp: 형제, 자매, 배우자 수\n",
    "Parch: 부모, 자식 수\n",
    "Ticket: 티켓번호\n",
    "Fare: 요금\n",
    "Cabin: 좌석번호\n",
    "Embarked: 탑승 항구\n",
    "\"\"\""
   ]
  },
  {
   "cell_type": "code",
   "execution_count": null,
   "id": "b5d2d177-1489-43f7-b747-5bf113572f8c",
   "metadata": {},
   "outputs": [],
   "source": [
    "#train / validation 세트 나누기\n",
    "\"\"\"\n",
    "1. feature 과 label 을 정의\n",
    "2. feature / label을 정의 했으면, 적절한 비율로 train / validation set을 나눔\n",
    "\"\"\""
   ]
  },
  {
   "cell_type": "code",
   "execution_count": 10,
   "id": "ea56e8af-9391-4bc9-914c-932e80f4a4b7",
   "metadata": {},
   "outputs": [],
   "source": [
    "#학습데이터\n",
    "feature = ['Pclass', 'Sex', 'Age', 'Fare']\n",
    "\n",
    "#예측데이터\n",
    "label = ['Survived']"
   ]
  },
  {
   "cell_type": "code",
   "execution_count": null,
   "id": "c0a50437-c82b-4aa5-8050-acfbf0fa1748",
   "metadata": {},
   "outputs": [],
   "source": [
    "\"\"\"\n",
    "test_size: validation set에 할당할 비율 (20% -> 0.2)\n",
    "shuffle: 셔플 옵션 (기본: True)\n",
    "random_state: 랜덤 시드값\n",
    "\"\"\""
   ]
  },
  {
   "cell_type": "code",
   "execution_count": 11,
   "id": "2bad4be9-2c28-42ec-993f-ba2078c544fb",
   "metadata": {},
   "outputs": [
    {
     "data": {
      "text/plain": [
       "((712, 4), (712, 1))"
      ]
     },
     "execution_count": 11,
     "metadata": {},
     "output_type": "execute_result"
    }
   ],
   "source": [
    "#train set, validation set 나누기 작업 (train_test_split)\n",
    "\n",
    "x_train, x_valid, y_train, y_valid = train_test_split(train[feature], train[label], test_size=0.2, random_state = 30)"
   ]
  },
  {
   "cell_type": "code",
   "execution_count": 12,
   "id": "80cf5d52-9dbd-4095-a2b8-0c97ca3ddca3",
   "metadata": {},
   "outputs": [
    {
     "data": {
      "text/plain": [
       "((712, 4), (712, 1))"
      ]
     },
     "execution_count": 12,
     "metadata": {},
     "output_type": "execute_result"
    }
   ],
   "source": [
    "x_train.shape, y_train.shape"
   ]
  },
  {
   "cell_type": "code",
   "execution_count": 13,
   "id": "1321873d-22f7-4fa8-b71e-b8628c3bffca",
   "metadata": {},
   "outputs": [
    {
     "data": {
      "text/plain": [
       "((179, 4), (179, 1))"
      ]
     },
     "execution_count": 13,
     "metadata": {},
     "output_type": "execute_result"
    }
   ],
   "source": [
    "x_valid.shape, y_valid.shape"
   ]
  }
 ],
 "metadata": {
  "kernelspec": {
   "display_name": "Python 3",
   "language": "python",
   "name": "python3"
  },
  "language_info": {
   "codemirror_mode": {
    "name": "ipython",
    "version": 3
   },
   "file_extension": ".py",
   "mimetype": "text/x-python",
   "name": "python",
   "nbconvert_exporter": "python",
   "pygments_lexer": "ipython3",
   "version": "3.8.8"
  }
 },
 "nbformat": 4,
 "nbformat_minor": 5
}
