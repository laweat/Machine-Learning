{
 "cells": [
  {
   "cell_type": "code",
   "execution_count": 1,
   "id": "429482e7-d8cf-4fbb-bcca-3e934a23b34f",
   "metadata": {},
   "outputs": [],
   "source": [
    "from sklearn.linear_model import LogisticRegression\n",
    "from sklearn.model_selection import train_test_split\n",
    "from sklearn.linear_model import SGDClassifier"
   ]
  },
  {
   "cell_type": "code",
   "execution_count": 2,
   "id": "1e4ee880-5481-4826-a0dc-02149dc8d2be",
   "metadata": {},
   "outputs": [],
   "source": [
    "import warnings\n",
    "\n",
    "warnings.filterwarnings('ignore')\n",
    "\n",
    "import pandas as pd\n",
    "from sklearn.datasets import load_iris"
   ]
  },
  {
   "cell_type": "code",
   "execution_count": 3,
   "id": "74b63ed0-6e50-4648-86f3-13cba1d8b107",
   "metadata": {},
   "outputs": [],
   "source": [
    "iris = load_iris()\n",
    "data = iris['data']\n",
    "feature_names = iris['feature_names']\n",
    "target = iris['target']\n",
    "df_iris = pd.DataFrame(data,columns = feature_names)\n",
    "df_iris['target'] = target"
   ]
  },
  {
   "cell_type": "code",
   "execution_count": 14,
   "id": "ba6e7598-18d8-41ec-adc9-d74756837a3b",
   "metadata": {},
   "outputs": [],
   "source": [
    "x_train, x_valid, y_train, y_valid = train_test_split(df_iris.drop('target',1), df_iris['target'], stratify = df_iris['target'])"
   ]
  },
  {
   "cell_type": "code",
   "execution_count": null,
   "id": "74dfbb8e-9783-4ee7-bc95-e6f59231ab90",
   "metadata": {},
   "outputs": [],
   "source": [
    "\"\"\"\n",
    "하이퍼 파라미터란?\n",
    "모델의 성능을 끌어올리기 위해 세부설정을 바꿔줌\n",
    "\n",
    "각 알고리즘 별, hyper-parameter의 종류가 다양함.\n",
    "전부 외울순 없음 문서를 보고 적절한 가설을 세운 다음 적용하면서 검증해야함.\n",
    "\n",
    "\"\"\""
   ]
  },
  {
   "cell_type": "code",
   "execution_count": 19,
   "id": "d9315b41-9e47-4449-a3b1-2ada60abfb5a",
   "metadata": {},
   "outputs": [],
   "source": [
    "sgd = SGDClassifier(penalty = 'elasticnet', random_state = 0, n_jobs = -1)"
   ]
  },
  {
   "cell_type": "code",
   "execution_count": 17,
   "id": "8f6964d8-2cde-4fb5-a385-267f5b4367b1",
   "metadata": {},
   "outputs": [
    {
     "data": {
      "text/plain": [
       "'\\nelasticent : 오버피팅을 방지\\nrnadom_state : 하이퍼 파라미터 튜닝시, 고정할 것\\nn_jobs = -1 : cpu를 모두 사용(학습속도가 빠름)\\n'"
      ]
     },
     "execution_count": 17,
     "metadata": {},
     "output_type": "execute_result"
    }
   ],
   "source": [
    "\n",
    "\n",
    "\"\"\"\n",
    "elasticent : 오버피팅을 방지\n",
    "rnadom_state : 하이퍼 파라미터 튜닝시, 고정할 것\n",
    "n_jobs = -1 : cpu를 모두 사용(학습속도가 빠름)\n",
    "\"\"\""
   ]
  },
  {
   "cell_type": "code",
   "execution_count": 20,
   "id": "d83cc702-4810-44d5-b2ee-e823b8a5e94c",
   "metadata": {},
   "outputs": [
    {
     "data": {
      "text/plain": [
       "SGDClassifier(n_jobs=-1, penalty='elasticnet', random_state=0)"
      ]
     },
     "execution_count": 20,
     "metadata": {},
     "output_type": "execute_result"
    }
   ],
   "source": [
    "sgd.fit(x_train, y_train)"
   ]
  },
  {
   "cell_type": "code",
   "execution_count": 21,
   "id": "4df4cb4c-017a-4d99-90a4-eb4391a73d7c",
   "metadata": {},
   "outputs": [],
   "source": [
    "pred = sgd.predict(x_valid)"
   ]
  },
  {
   "cell_type": "code",
   "execution_count": 22,
   "id": "534b5801-8b18-403c-b77a-628bb83ee8a6",
   "metadata": {},
   "outputs": [
    {
     "data": {
      "text/plain": [
       "0.8421052631578947"
      ]
     },
     "execution_count": 22,
     "metadata": {},
     "output_type": "execute_result"
    }
   ],
   "source": [
    "(y_valid == pred).mean()"
   ]
  },
  {
   "cell_type": "code",
   "execution_count": null,
   "id": "c0583e67-d921-4382-a94d-6264e875f93c",
   "metadata": {},
   "outputs": [],
   "source": []
  }
 ],
 "metadata": {
  "kernelspec": {
   "display_name": "Python 3",
   "language": "python",
   "name": "python3"
  },
  "language_info": {
   "codemirror_mode": {
    "name": "ipython",
    "version": 3
   },
   "file_extension": ".py",
   "mimetype": "text/x-python",
   "name": "python",
   "nbconvert_exporter": "python",
   "pygments_lexer": "ipython3",
   "version": "3.8.8"
  }
 },
 "nbformat": 4,
 "nbformat_minor": 5
}
