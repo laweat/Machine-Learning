{
 "cells": [
  {
   "cell_type": "code",
   "execution_count": 1,
   "id": "4c4aaa40-cdaf-47e8-b7da-e5cd4daf61ba",
   "metadata": {},
   "outputs": [],
   "source": [
    "from sklearn.model_selection import train_test_split\n",
    "\n",
    "import warnings\n",
    "\n",
    "warnings.filterwarnings('ignore')\n",
    "\n",
    "import pandas as pd\n",
    "from sklearn.datasets import load_iris\n",
    "\n",
    "iris = load_iris()\n",
    "data = iris['data']\n",
    "feature_names = iris['feature_names']\n",
    "target = iris['target']\n",
    "df_iris = pd.DataFrame(data,columns = feature_names)\n",
    "df_iris['target'] = target\n",
    "\n",
    "x_train, x_valid, y_train, y_valid = train_test_split(df_iris.drop('target',1), df_iris['target'], stratify = df_iris['target'])"
   ]
  },
  {
   "cell_type": "code",
   "execution_count": 2,
   "id": "ddebb186-1549-402d-b6e8-459ab9ba4838",
   "metadata": {},
   "outputs": [],
   "source": [
    "from sklearn.neighbors import KNeighborsClassifier"
   ]
  },
  {
   "cell_type": "code",
   "execution_count": 3,
   "id": "6e274cf2-0d56-40d7-aac1-7f4a4ea17e01",
   "metadata": {},
   "outputs": [],
   "source": [
    "knc = KNeighborsClassifier()"
   ]
  },
  {
   "cell_type": "code",
   "execution_count": 4,
   "id": "27c0069a-538e-4591-ab2c-23630cd507d6",
   "metadata": {},
   "outputs": [
    {
     "data": {
      "text/plain": [
       "KNeighborsClassifier()"
      ]
     },
     "execution_count": 4,
     "metadata": {},
     "output_type": "execute_result"
    }
   ],
   "source": [
    "#n_neighbors = 5 최근접 기본값은 5개를 기준으로 학습\n",
    "#일반적으로 홀수개를 넣음(짝수개를 넣으면 동점 확률이 생길수 있음)\n",
    "knc.fit(x_train, y_train)"
   ]
  },
  {
   "cell_type": "code",
   "execution_count": 5,
   "id": "12b816dc-d19b-4a69-8a2d-d617c4431ff7",
   "metadata": {},
   "outputs": [],
   "source": [
    "pred = knc.predict(x_valid)"
   ]
  },
  {
   "cell_type": "code",
   "execution_count": 6,
   "id": "b707d1f1-8715-4611-a8cd-d40419955e4a",
   "metadata": {},
   "outputs": [
    {
     "data": {
      "text/plain": [
       "0.9473684210526315"
      ]
     },
     "execution_count": 6,
     "metadata": {},
     "output_type": "execute_result"
    }
   ],
   "source": [
    "(y_valid == pred).mean()"
   ]
  },
  {
   "cell_type": "code",
   "execution_count": 7,
   "id": "a632cc1c-880d-4b41-8dbc-88a9ff732d61",
   "metadata": {},
   "outputs": [
    {
     "data": {
      "text/plain": [
       "0.9736842105263158"
      ]
     },
     "execution_count": 7,
     "metadata": {},
     "output_type": "execute_result"
    }
   ],
   "source": [
    "knc = KNeighborsClassifier(n_neighbors = 9)\n",
    "knc.fit(x_train, y_train)\n",
    "pred = knc.predict(x_valid)\n",
    "(pred == y_valid).mean()"
   ]
  },
  {
   "cell_type": "code",
   "execution_count": null,
   "id": "9c878507-2c54-4bdc-a4f8-b3c6019277aa",
   "metadata": {},
   "outputs": [],
   "source": []
  }
 ],
 "metadata": {
  "kernelspec": {
   "display_name": "Python 3",
   "language": "python",
   "name": "python3"
  },
  "language_info": {
   "codemirror_mode": {
    "name": "ipython",
    "version": 3
   },
   "file_extension": ".py",
   "mimetype": "text/x-python",
   "name": "python",
   "nbconvert_exporter": "python",
   "pygments_lexer": "ipython3",
   "version": "3.8.8"
  }
 },
 "nbformat": 4,
 "nbformat_minor": 5
}
