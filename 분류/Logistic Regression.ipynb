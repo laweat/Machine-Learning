{
 "cells": [
  {
   "cell_type": "code",
   "execution_count": 4,
   "id": "d41809fe-f66e-4107-b675-69ab9f93fcd4",
   "metadata": {},
   "outputs": [],
   "source": [
    "from sklearn.linear_model import LogisticRegression\n",
    "from sklearn.model_selection import train_test_split"
   ]
  },
  {
   "cell_type": "code",
   "execution_count": 6,
   "id": "f3ad893d-cea0-4732-821d-d7d16b8a3249",
   "metadata": {},
   "outputs": [],
   "source": [
    "import warnings\n",
    "\n",
    "warnings.filterwarnings('ignore')\n",
    "\n",
    "import pandas as pd\n",
    "from sklearn.datasets import load_iris"
   ]
  },
  {
   "cell_type": "code",
   "execution_count": 10,
   "id": "09d58933-cb16-4d7b-95e4-903e85d13af5",
   "metadata": {},
   "outputs": [],
   "source": [
    "iris = load_iris()\n",
    "data = iris['data']\n",
    "feature_names = iris['feature_names']\n",
    "target = iris['target']\n",
    "df_iris = pd.DataFrame(data,columns = feature_names)\n",
    "df_iris['target'] = target"
   ]
  },
  {
   "cell_type": "code",
   "execution_count": 36,
   "id": "98b24c88-0823-4b71-a04f-7539ac856418",
   "metadata": {},
   "outputs": [],
   "source": [
    "x_train, x_valid, y_train, y_valid = train_test_split(df_iris.drop('target',1), df_iris['target'], stratify = df_iris['target'])"
   ]
  },
  {
   "cell_type": "code",
   "execution_count": null,
   "id": "3eca2dd9-506c-404b-83ad-0fd4ea9b45e3",
   "metadata": {},
   "outputs": [],
   "source": [
    "\"\"\"\n",
    "1. 로지스틱, 서포트 벡터 머산(SVM) 과 같은 알고리즘은 이진분류만 가능합니다\n",
    "\n",
    "#3개이상의 클래에 대한 판별을 진행하는 경우\n",
    "-One - vs - rest(OvR):\n",
    "K개의 클래스가 존재할 때, 1개의 클래스를 제외한 다른 클래스를 K개 만들어, 각각의 이진 분류에 대한 확률을 구하고, 총\n",
    "합을 통해 최종 클래스를 판별하는 전략\n",
    "\n",
    "-One - vs -One : 모든경우의수를 분류기를 만들어 가장 많이 양성으로 선택된 클래스를 판별\n",
    "\"\"\""
   ]
  },
  {
   "cell_type": "code",
   "execution_count": 32,
   "id": "2ca58cce-35bc-4800-ac64-8aedac8971a5",
   "metadata": {},
   "outputs": [],
   "source": [
    "lr = LogisticRegression()"
   ]
  },
  {
   "cell_type": "code",
   "execution_count": 33,
   "id": "6dfb7df4-f2d9-4584-991a-33c238ece254",
   "metadata": {},
   "outputs": [
    {
     "data": {
      "text/plain": [
       "LogisticRegression()"
      ]
     },
     "execution_count": 33,
     "metadata": {},
     "output_type": "execute_result"
    }
   ],
   "source": [
    "#학습\n",
    "lr.fit(x_train, y_train)"
   ]
  },
  {
   "cell_type": "code",
   "execution_count": 34,
   "id": "a779dfc9-56ed-47ea-8802-c958e5b348d4",
   "metadata": {},
   "outputs": [],
   "source": [
    "#예측\n",
    "lr_pred = lr.predict(x_valid)"
   ]
  },
  {
   "cell_type": "code",
   "execution_count": 35,
   "id": "c047c3f0-3fab-4615-bcb4-c051a1451559",
   "metadata": {},
   "outputs": [
    {
     "data": {
      "text/plain": [
       "0.9473684210526315"
      ]
     },
     "execution_count": 35,
     "metadata": {},
     "output_type": "execute_result"
    }
   ],
   "source": [
    "#검증\n",
    "(lr_pred == y_valid).mean()"
   ]
  }
 ],
 "metadata": {
  "kernelspec": {
   "display_name": "Python 3",
   "language": "python",
   "name": "python3"
  },
  "language_info": {
   "codemirror_mode": {
    "name": "ipython",
    "version": 3
   },
   "file_extension": ".py",
   "mimetype": "text/x-python",
   "name": "python",
   "nbconvert_exporter": "python",
   "pygments_lexer": "ipython3",
   "version": "3.8.8"
  }
 },
 "nbformat": 4,
 "nbformat_minor": 5
}
