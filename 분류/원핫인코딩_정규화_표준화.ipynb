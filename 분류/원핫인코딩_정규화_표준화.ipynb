{
 "cells": [
  {
   "cell_type": "code",
   "execution_count": 40,
   "id": "46a6a758-1d74-46d2-bca5-f576d7ae617c",
   "metadata": {},
   "outputs": [],
   "source": [
    "#원 핫 인코딩 \n",
    "from sklearn.preprocessing import LabelEncoder"
   ]
  },
  {
   "cell_type": "code",
   "execution_count": 44,
   "id": "a7fbc665-50e4-4c3a-80bb-e4b9cd0f9586",
   "metadata": {},
   "outputs": [],
   "source": [
    "train = pd.read_csv('https://bit.ly/fc-ml-titanic')"
   ]
  },
  {
   "cell_type": "code",
   "execution_count": 45,
   "id": "fe051cba-1455-4ebf-a742-2dd28465ab15",
   "metadata": {},
   "outputs": [
    {
     "data": {
      "text/plain": [
       "S    644\n",
       "C    168\n",
       "Q     77\n",
       "Name: Embarked, dtype: int64"
      ]
     },
     "execution_count": 45,
     "metadata": {},
     "output_type": "execute_result"
    }
   ],
   "source": [
    "train['Embarked'].value_counts()"
   ]
  },
  {
   "cell_type": "code",
   "execution_count": 46,
   "id": "82012918-c002-43c0-8e12-1a45d78c6962",
   "metadata": {},
   "outputs": [],
   "source": [
    "train['Embarked'] = train['Embarked'].fillna(\"S\")"
   ]
  },
  {
   "cell_type": "code",
   "execution_count": 47,
   "id": "440e272d-a181-4881-a9e0-b0fbc48c91d5",
   "metadata": {},
   "outputs": [],
   "source": [
    "train['Embarked_num'] = LabelEncoder().fit_transform(train['Embarked'])"
   ]
  },
  {
   "cell_type": "code",
   "execution_count": 48,
   "id": "734af7a0-b227-4213-8cba-f4a66ffe33e7",
   "metadata": {},
   "outputs": [
    {
     "data": {
      "text/plain": [
       "S    646\n",
       "C    168\n",
       "Q     77\n",
       "Name: Embarked, dtype: int64"
      ]
     },
     "execution_count": 48,
     "metadata": {},
     "output_type": "execute_result"
    }
   ],
   "source": [
    "train['Embarked'].value_counts()"
   ]
  },
  {
   "cell_type": "code",
   "execution_count": null,
   "id": "7bc85bf5-0be5-4879-af73-b174ebb3e1f6",
   "metadata": {},
   "outputs": [],
   "source": [
    "\"\"\"\n",
    "Embarked는 탑승 항구의 이니셜을 나타냈습니다\n",
    "그런데, 우리는 이전에배운 내용처럼 LabelEncoder를 통해서 수치형으로 변환해 주었습니다.\n",
    "하지만, 이대로 데이터를 기계학습을 시키면, 기계는 데이터 안에서 관계를 학습힙니다\n",
    "즉 'S' = 2, 'Q' = 1 이라고 되어 있는데, Q+Q=S 가된다고 학습해버림\n",
    "\n",
    "그렇기 때문에 독립적인 데이터는 별도의 Column으로 분리하고 각각의 컬럼에 해당값에만 True\n",
    "나머지는 False를 갖습니다 우리는 이것을 원핫 인코딩 한다라고 함.\n",
    "\"\"\""
   ]
  },
  {
   "cell_type": "code",
   "execution_count": 52,
   "id": "164996e5-7f36-4be0-af46-bee5cc20469d",
   "metadata": {},
   "outputs": [
    {
     "data": {
      "text/plain": [
       "0    S\n",
       "1    C\n",
       "2    S\n",
       "3    S\n",
       "4    S\n",
       "5    Q\n",
       "Name: Embarked, dtype: object"
      ]
     },
     "execution_count": 52,
     "metadata": {},
     "output_type": "execute_result"
    }
   ],
   "source": [
    "train['Embarked'][:6]"
   ]
  },
  {
   "cell_type": "code",
   "execution_count": 53,
   "id": "852e7897-348b-4e80-9e65-deea8131f4ae",
   "metadata": {},
   "outputs": [
    {
     "data": {
      "text/plain": [
       "0    2\n",
       "1    0\n",
       "2    2\n",
       "3    2\n",
       "4    2\n",
       "5    1\n",
       "Name: Embarked_num, dtype: int32"
      ]
     },
     "execution_count": 53,
     "metadata": {},
     "output_type": "execute_result"
    }
   ],
   "source": [
    "train['Embarked_num'][:6]"
   ]
  },
  {
   "cell_type": "code",
   "execution_count": 54,
   "id": "2b1b65c2-914b-4000-a83b-380494de1483",
   "metadata": {},
   "outputs": [
    {
     "data": {
      "text/html": [
       "<div>\n",
       "<style scoped>\n",
       "    .dataframe tbody tr th:only-of-type {\n",
       "        vertical-align: middle;\n",
       "    }\n",
       "\n",
       "    .dataframe tbody tr th {\n",
       "        vertical-align: top;\n",
       "    }\n",
       "\n",
       "    .dataframe thead th {\n",
       "        text-align: right;\n",
       "    }\n",
       "</style>\n",
       "<table border=\"1\" class=\"dataframe\">\n",
       "  <thead>\n",
       "    <tr style=\"text-align: right;\">\n",
       "      <th></th>\n",
       "      <th>0</th>\n",
       "      <th>1</th>\n",
       "      <th>2</th>\n",
       "    </tr>\n",
       "  </thead>\n",
       "  <tbody>\n",
       "    <tr>\n",
       "      <th>0</th>\n",
       "      <td>0</td>\n",
       "      <td>0</td>\n",
       "      <td>1</td>\n",
       "    </tr>\n",
       "    <tr>\n",
       "      <th>1</th>\n",
       "      <td>1</td>\n",
       "      <td>0</td>\n",
       "      <td>0</td>\n",
       "    </tr>\n",
       "    <tr>\n",
       "      <th>2</th>\n",
       "      <td>0</td>\n",
       "      <td>0</td>\n",
       "      <td>1</td>\n",
       "    </tr>\n",
       "    <tr>\n",
       "      <th>3</th>\n",
       "      <td>0</td>\n",
       "      <td>0</td>\n",
       "      <td>1</td>\n",
       "    </tr>\n",
       "    <tr>\n",
       "      <th>4</th>\n",
       "      <td>0</td>\n",
       "      <td>0</td>\n",
       "      <td>1</td>\n",
       "    </tr>\n",
       "    <tr>\n",
       "      <th>5</th>\n",
       "      <td>0</td>\n",
       "      <td>1</td>\n",
       "      <td>0</td>\n",
       "    </tr>\n",
       "  </tbody>\n",
       "</table>\n",
       "</div>"
      ],
      "text/plain": [
       "   0  1  2\n",
       "0  0  0  1\n",
       "1  1  0  0\n",
       "2  0  0  1\n",
       "3  0  0  1\n",
       "4  0  0  1\n",
       "5  0  1  0"
      ]
     },
     "execution_count": 54,
     "metadata": {},
     "output_type": "execute_result"
    }
   ],
   "source": [
    "pd.get_dummies(train['Embarked_num'][:6])"
   ]
  },
  {
   "cell_type": "code",
   "execution_count": 56,
   "id": "1b5a7b04-be58-4d5b-8b89-dccc2aa4b353",
   "metadata": {},
   "outputs": [],
   "source": [
    "one_hot = pd.get_dummies(train['Embarked_num'][:6])"
   ]
  },
  {
   "cell_type": "code",
   "execution_count": 59,
   "id": "ce364f79-9ba6-46b6-8349-7e49d4d9f0b6",
   "metadata": {},
   "outputs": [],
   "source": [
    "one_hot.columns = ['C','Q','S']"
   ]
  },
  {
   "cell_type": "code",
   "execution_count": 60,
   "id": "6478918a-fed7-4258-90ad-eea184974d7e",
   "metadata": {},
   "outputs": [
    {
     "data": {
      "text/html": [
       "<div>\n",
       "<style scoped>\n",
       "    .dataframe tbody tr th:only-of-type {\n",
       "        vertical-align: middle;\n",
       "    }\n",
       "\n",
       "    .dataframe tbody tr th {\n",
       "        vertical-align: top;\n",
       "    }\n",
       "\n",
       "    .dataframe thead th {\n",
       "        text-align: right;\n",
       "    }\n",
       "</style>\n",
       "<table border=\"1\" class=\"dataframe\">\n",
       "  <thead>\n",
       "    <tr style=\"text-align: right;\">\n",
       "      <th></th>\n",
       "      <th>C</th>\n",
       "      <th>Q</th>\n",
       "      <th>S</th>\n",
       "    </tr>\n",
       "  </thead>\n",
       "  <tbody>\n",
       "    <tr>\n",
       "      <th>0</th>\n",
       "      <td>0</td>\n",
       "      <td>0</td>\n",
       "      <td>1</td>\n",
       "    </tr>\n",
       "    <tr>\n",
       "      <th>1</th>\n",
       "      <td>1</td>\n",
       "      <td>0</td>\n",
       "      <td>0</td>\n",
       "    </tr>\n",
       "    <tr>\n",
       "      <th>2</th>\n",
       "      <td>0</td>\n",
       "      <td>0</td>\n",
       "      <td>1</td>\n",
       "    </tr>\n",
       "    <tr>\n",
       "      <th>3</th>\n",
       "      <td>0</td>\n",
       "      <td>0</td>\n",
       "      <td>1</td>\n",
       "    </tr>\n",
       "    <tr>\n",
       "      <th>4</th>\n",
       "      <td>0</td>\n",
       "      <td>0</td>\n",
       "      <td>1</td>\n",
       "    </tr>\n",
       "    <tr>\n",
       "      <th>5</th>\n",
       "      <td>0</td>\n",
       "      <td>1</td>\n",
       "      <td>0</td>\n",
       "    </tr>\n",
       "  </tbody>\n",
       "</table>\n",
       "</div>"
      ],
      "text/plain": [
       "   C  Q  S\n",
       "0  0  0  1\n",
       "1  1  0  0\n",
       "2  0  0  1\n",
       "3  0  0  1\n",
       "4  0  0  1\n",
       "5  0  1  0"
      ]
     },
     "execution_count": 60,
     "metadata": {},
     "output_type": "execute_result"
    }
   ],
   "source": [
    "one_hot"
   ]
  },
  {
   "cell_type": "code",
   "execution_count": null,
   "id": "7d0dddc1-8ef7-402a-abad-5f8b3547b616",
   "metadata": {},
   "outputs": [],
   "source": [
    "\"\"\"\n",
    "이렇게 column을 분리시켜 카테고리형 - > 수치형으로 변환하면서 생기는 수치형 값의 관계를 \n",
    "끊어줘서 독립적인 형태로 바꿈\n",
    "\"\"\""
   ]
  },
  {
   "cell_type": "code",
   "execution_count": 20,
   "id": "33ce759a-c687-41c6-844d-b64be090d114",
   "metadata": {},
   "outputs": [],
   "source": [
    "#정규화\n",
    "\n",
    "from sklearn.preprocessing import MinMaxScaler\n",
    "import pandas as pd\n",
    "import numpy as np"
   ]
  },
  {
   "cell_type": "code",
   "execution_count": 5,
   "id": "3ebb7026-6ab9-43bf-a554-7f02da595ac2",
   "metadata": {},
   "outputs": [],
   "source": [
    "movie = {\n",
    "    'naver' : [2,4,6,8,10],\n",
    "    'netflix' : [1,2,3,4,5]\n",
    "}"
   ]
  },
  {
   "cell_type": "code",
   "execution_count": 8,
   "id": "8dc0e2c8-7314-462f-b9f9-e3c4910672b7",
   "metadata": {},
   "outputs": [
    {
     "data": {
      "text/html": [
       "<div>\n",
       "<style scoped>\n",
       "    .dataframe tbody tr th:only-of-type {\n",
       "        vertical-align: middle;\n",
       "    }\n",
       "\n",
       "    .dataframe tbody tr th {\n",
       "        vertical-align: top;\n",
       "    }\n",
       "\n",
       "    .dataframe thead th {\n",
       "        text-align: right;\n",
       "    }\n",
       "</style>\n",
       "<table border=\"1\" class=\"dataframe\">\n",
       "  <thead>\n",
       "    <tr style=\"text-align: right;\">\n",
       "      <th></th>\n",
       "      <th>naver</th>\n",
       "      <th>netflix</th>\n",
       "    </tr>\n",
       "  </thead>\n",
       "  <tbody>\n",
       "    <tr>\n",
       "      <th>0</th>\n",
       "      <td>2</td>\n",
       "      <td>1</td>\n",
       "    </tr>\n",
       "    <tr>\n",
       "      <th>1</th>\n",
       "      <td>4</td>\n",
       "      <td>2</td>\n",
       "    </tr>\n",
       "    <tr>\n",
       "      <th>2</th>\n",
       "      <td>6</td>\n",
       "      <td>3</td>\n",
       "    </tr>\n",
       "    <tr>\n",
       "      <th>3</th>\n",
       "      <td>8</td>\n",
       "      <td>4</td>\n",
       "    </tr>\n",
       "    <tr>\n",
       "      <th>4</th>\n",
       "      <td>10</td>\n",
       "      <td>5</td>\n",
       "    </tr>\n",
       "  </tbody>\n",
       "</table>\n",
       "</div>"
      ],
      "text/plain": [
       "   naver  netflix\n",
       "0      2        1\n",
       "1      4        2\n",
       "2      6        3\n",
       "3      8        4\n",
       "4     10        5"
      ]
     },
     "execution_count": 8,
     "metadata": {},
     "output_type": "execute_result"
    }
   ],
   "source": [
    "movie = pd.DataFrame(movie)\n",
    "movie"
   ]
  },
  {
   "cell_type": "code",
   "execution_count": 10,
   "id": "c7ae2d69-2991-42b0-ab9e-744e89a9bc3f",
   "metadata": {},
   "outputs": [],
   "source": [
    "min_max_scaler = MinMaxScaler()"
   ]
  },
  {
   "cell_type": "code",
   "execution_count": 12,
   "id": "fd96f4e8-8f19-4dbb-adcc-0127572ce745",
   "metadata": {},
   "outputs": [],
   "source": [
    "min_max_Movie = min_max_scaler.fit_transform(movie)"
   ]
  },
  {
   "cell_type": "code",
   "execution_count": 14,
   "id": "a2c52438-1364-4f08-8982-5fdc3463ebd4",
   "metadata": {},
   "outputs": [
    {
     "data": {
      "text/html": [
       "<div>\n",
       "<style scoped>\n",
       "    .dataframe tbody tr th:only-of-type {\n",
       "        vertical-align: middle;\n",
       "    }\n",
       "\n",
       "    .dataframe tbody tr th {\n",
       "        vertical-align: top;\n",
       "    }\n",
       "\n",
       "    .dataframe thead th {\n",
       "        text-align: right;\n",
       "    }\n",
       "</style>\n",
       "<table border=\"1\" class=\"dataframe\">\n",
       "  <thead>\n",
       "    <tr style=\"text-align: right;\">\n",
       "      <th></th>\n",
       "      <th>naver</th>\n",
       "      <th>netflix</th>\n",
       "    </tr>\n",
       "  </thead>\n",
       "  <tbody>\n",
       "    <tr>\n",
       "      <th>0</th>\n",
       "      <td>0.00</td>\n",
       "      <td>0.00</td>\n",
       "    </tr>\n",
       "    <tr>\n",
       "      <th>1</th>\n",
       "      <td>0.25</td>\n",
       "      <td>0.25</td>\n",
       "    </tr>\n",
       "    <tr>\n",
       "      <th>2</th>\n",
       "      <td>0.50</td>\n",
       "      <td>0.50</td>\n",
       "    </tr>\n",
       "    <tr>\n",
       "      <th>3</th>\n",
       "      <td>0.75</td>\n",
       "      <td>0.75</td>\n",
       "    </tr>\n",
       "    <tr>\n",
       "      <th>4</th>\n",
       "      <td>1.00</td>\n",
       "      <td>1.00</td>\n",
       "    </tr>\n",
       "  </tbody>\n",
       "</table>\n",
       "</div>"
      ],
      "text/plain": [
       "   naver  netflix\n",
       "0   0.00     0.00\n",
       "1   0.25     0.25\n",
       "2   0.50     0.50\n",
       "3   0.75     0.75\n",
       "4   1.00     1.00"
      ]
     },
     "execution_count": 14,
     "metadata": {},
     "output_type": "execute_result"
    }
   ],
   "source": [
    "pd.DataFrame(min_max_Movie , columns = ['naver','netflix'])"
   ]
  },
  {
   "cell_type": "code",
   "execution_count": 15,
   "id": "6018106e-bd63-42d9-8204-1f1b82017231",
   "metadata": {},
   "outputs": [],
   "source": [
    "#표준화"
   ]
  },
  {
   "cell_type": "code",
   "execution_count": 16,
   "id": "8e8cc0ed-c2f3-49a1-999f-a03b8f37b617",
   "metadata": {},
   "outputs": [],
   "source": [
    "from sklearn.preprocessing import StandardScaler"
   ]
  },
  {
   "cell_type": "code",
   "execution_count": 18,
   "id": "d67e0660-f9b0-475e-b764-3bbc71cc450e",
   "metadata": {},
   "outputs": [],
   "source": [
    "standard_scaler = StandardScaler()"
   ]
  },
  {
   "cell_type": "code",
   "execution_count": 21,
   "id": "5b0834e2-4d4f-4eef-94b1-4042151f4dd1",
   "metadata": {},
   "outputs": [],
   "source": [
    "x = np.arange(10)\n",
    "x[9] = 1000"
   ]
  },
  {
   "cell_type": "code",
   "execution_count": 23,
   "id": "b8c72f96-24ae-41a3-8b1d-9976546245bd",
   "metadata": {},
   "outputs": [
    {
     "data": {
      "text/plain": [
       "(103.6, 298.8100399919654)"
      ]
     },
     "execution_count": 23,
     "metadata": {},
     "output_type": "execute_result"
    }
   ],
   "source": [
    "x.mean(), x.std()"
   ]
  },
  {
   "cell_type": "code",
   "execution_count": 25,
   "id": "27325138-cc49-4a32-bbc4-2b82b977cf65",
   "metadata": {},
   "outputs": [],
   "source": [
    "scaled = standard_scaler.fit_transform(x.reshape(-1,1))"
   ]
  },
  {
   "cell_type": "code",
   "execution_count": 27,
   "id": "a5d68d71-66cc-440c-9125-56d7f0a08a17",
   "metadata": {},
   "outputs": [
    {
     "data": {
      "text/plain": [
       "(103.6, 298.8100399919654)"
      ]
     },
     "execution_count": 27,
     "metadata": {},
     "output_type": "execute_result"
    }
   ],
   "source": [
    "x.mean(), x.std()"
   ]
  },
  {
   "cell_type": "code",
   "execution_count": 30,
   "id": "ab48ff14-0534-4c00-82cc-449de94cd341",
   "metadata": {},
   "outputs": [
    {
     "data": {
      "text/plain": [
       "(4.4408920985006264e-17, 1.0)"
      ]
     },
     "execution_count": 30,
     "metadata": {},
     "output_type": "execute_result"
    }
   ],
   "source": [
    "scaled.mean(), scaled.std()"
   ]
  },
  {
   "cell_type": "code",
   "execution_count": 33,
   "id": "13d478f0-e8a1-4542-a19f-e6add1836725",
   "metadata": {},
   "outputs": [
    {
     "data": {
      "text/plain": [
       "0.0"
      ]
     },
     "execution_count": 33,
     "metadata": {},
     "output_type": "execute_result"
    }
   ],
   "source": [
    "round(scaled.mean(),2)"
   ]
  }
 ],
 "metadata": {
  "kernelspec": {
   "display_name": "Python 3",
   "language": "python",
   "name": "python3"
  },
  "language_info": {
   "codemirror_mode": {
    "name": "ipython",
    "version": 3
   },
   "file_extension": ".py",
   "mimetype": "text/x-python",
   "name": "python",
   "nbconvert_exporter": "python",
   "pygments_lexer": "ipython3",
   "version": "3.8.8"
  }
 },
 "nbformat": 4,
 "nbformat_minor": 5
}
