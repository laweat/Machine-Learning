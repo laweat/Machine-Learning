{
 "cells": [
  {
   "cell_type": "code",
   "execution_count": 1,
   "id": "c0ab8214-9fe3-4333-8a1e-725df6dd24cf",
   "metadata": {},
   "outputs": [],
   "source": [
    "import pandas as pd\n",
    "import numpy as np\n",
    "import matplotlib.pyplot as plt\n",
    "import seaborn as sns\n",
    "import re\n",
    "\n",
    "import warnings\n",
    "warnings.filterwarnings('ignore')"
   ]
  },
  {
   "cell_type": "code",
   "execution_count": 2,
   "id": "c1ac42f9-83e5-4519-b37e-163b951a2644",
   "metadata": {},
   "outputs": [],
   "source": [
    "df = pd.read_csv(\"https://raw.githubusercontent.com/yoonkt200/FastCampusDataset/master/bourne_scenario.csv\")"
   ]
  },
  {
   "cell_type": "code",
   "execution_count": 3,
   "id": "c488f14b-c3bb-480f-b552-38af1724721b",
   "metadata": {},
   "outputs": [
    {
     "data": {
      "text/html": [
       "<div>\n",
       "<style scoped>\n",
       "    .dataframe tbody tr th:only-of-type {\n",
       "        vertical-align: middle;\n",
       "    }\n",
       "\n",
       "    .dataframe tbody tr th {\n",
       "        vertical-align: top;\n",
       "    }\n",
       "\n",
       "    .dataframe thead th {\n",
       "        text-align: right;\n",
       "    }\n",
       "</style>\n",
       "<table border=\"1\" class=\"dataframe\">\n",
       "  <thead>\n",
       "    <tr style=\"text-align: right;\">\n",
       "      <th></th>\n",
       "      <th>page_no</th>\n",
       "      <th>scene_title</th>\n",
       "      <th>text</th>\n",
       "    </tr>\n",
       "  </thead>\n",
       "  <tbody>\n",
       "    <tr>\n",
       "      <th>0</th>\n",
       "      <td>1</td>\n",
       "      <td>1         EXT. MERCEDES WINDSHIELD -- DUSK</td>\n",
       "      <td>1                It's raining...             ...</td>\n",
       "    </tr>\n",
       "    <tr>\n",
       "      <th>1</th>\n",
       "      <td>1</td>\n",
       "      <td>A1        INT. MERCEDES -- NIGHT</td>\n",
       "      <td>A1                On his knee -- a syringe an...</td>\n",
       "    </tr>\n",
       "    <tr>\n",
       "      <th>2</th>\n",
       "      <td>1</td>\n",
       "      <td>2         INT. COTTAGE BEDROOM -- NIGHT</td>\n",
       "      <td>2                BOURNE'S EYES OPEN! -- panic...</td>\n",
       "    </tr>\n",
       "    <tr>\n",
       "      <th>3</th>\n",
       "      <td>1</td>\n",
       "      <td>A2        INT. COTTAGE LIVING AREA/BATHROOM ...</td>\n",
       "      <td>A2                BOURNE moving for the medic...</td>\n",
       "    </tr>\n",
       "    <tr>\n",
       "      <th>4</th>\n",
       "      <td>2</td>\n",
       "      <td>3         INT./EXT. COTTAGE LIVING ROOM/VERA...</td>\n",
       "      <td>3                One minute later.  BOURNE mo...</td>\n",
       "    </tr>\n",
       "    <tr>\n",
       "      <th>...</th>\n",
       "      <td>...</td>\n",
       "      <td>...</td>\n",
       "      <td>...</td>\n",
       "    </tr>\n",
       "    <tr>\n",
       "      <th>315</th>\n",
       "      <td>119</td>\n",
       "      <td>356       EXT. HOUSING PROJECT PLAYGROUND --...</td>\n",
       "      <td>356                BOURNE trudging along.  Ac...</td>\n",
       "    </tr>\n",
       "    <tr>\n",
       "      <th>316</th>\n",
       "      <td>121</td>\n",
       "      <td>357       INT. HOSPITAL ROOM -- DAY</td>\n",
       "      <td>357                BOURNE waking up -- sittin...</td>\n",
       "    </tr>\n",
       "    <tr>\n",
       "      <th>317</th>\n",
       "      <td>121</td>\n",
       "      <td>358       INT. HOSPITAL CORRIDOR -- DAY</td>\n",
       "      <td>358                Long, sterile hallway.  CR...</td>\n",
       "    </tr>\n",
       "    <tr>\n",
       "      <th>318</th>\n",
       "      <td>121</td>\n",
       "      <td>359       INT. HOSPITAL ROOM -- DAY</td>\n",
       "      <td>359                Empty bed.  Open window.  ...</td>\n",
       "    </tr>\n",
       "    <tr>\n",
       "      <th>319</th>\n",
       "      <td>121</td>\n",
       "      <td>360       EXT. MUSEUM ISLAND BRIDGE -- BERLI...</td>\n",
       "      <td>360    *                Off he goes.  Disappe...</td>\n",
       "    </tr>\n",
       "  </tbody>\n",
       "</table>\n",
       "<p>320 rows × 3 columns</p>\n",
       "</div>"
      ],
      "text/plain": [
       "     page_no                                        scene_title  \\\n",
       "0          1         1         EXT. MERCEDES WINDSHIELD -- DUSK   \n",
       "1          1                   A1        INT. MERCEDES -- NIGHT   \n",
       "2          1            2         INT. COTTAGE BEDROOM -- NIGHT   \n",
       "3          1    A2        INT. COTTAGE LIVING AREA/BATHROOM ...   \n",
       "4          2    3         INT./EXT. COTTAGE LIVING ROOM/VERA...   \n",
       "..       ...                                                ...   \n",
       "315      119    356       EXT. HOUSING PROJECT PLAYGROUND --...   \n",
       "316      121                357       INT. HOSPITAL ROOM -- DAY   \n",
       "317      121            358       INT. HOSPITAL CORRIDOR -- DAY   \n",
       "318      121                359       INT. HOSPITAL ROOM -- DAY   \n",
       "319      121    360       EXT. MUSEUM ISLAND BRIDGE -- BERLI...   \n",
       "\n",
       "                                                  text  \n",
       "0     1                It's raining...             ...  \n",
       "1     A1                On his knee -- a syringe an...  \n",
       "2     2                BOURNE'S EYES OPEN! -- panic...  \n",
       "3     A2                BOURNE moving for the medic...  \n",
       "4     3                One minute later.  BOURNE mo...  \n",
       "..                                                 ...  \n",
       "315   356                BOURNE trudging along.  Ac...  \n",
       "316   357                BOURNE waking up -- sittin...  \n",
       "317   358                Long, sterile hallway.  CR...  \n",
       "318   359                Empty bed.  Open window.  ...  \n",
       "319   360    *                Off he goes.  Disappe...  \n",
       "\n",
       "[320 rows x 3 columns]"
      ]
     },
     "execution_count": 3,
     "metadata": {},
     "output_type": "execute_result"
    }
   ],
   "source": [
    "df"
   ]
  },
  {
   "cell_type": "code",
   "execution_count": 4,
   "id": "9a21927b-758e-49cd-951e-fb39f232ee93",
   "metadata": {},
   "outputs": [
    {
     "data": {
      "text/plain": [
       "page_no        0\n",
       "scene_title    0\n",
       "text           0\n",
       "dtype: int64"
      ]
     },
     "execution_count": 4,
     "metadata": {},
     "output_type": "execute_result"
    }
   ],
   "source": [
    "#기본 정보 탐색\n",
    "df.isnull().sum()"
   ]
  },
  {
   "cell_type": "code",
   "execution_count": 5,
   "id": "6f80fb3c-afec-4fb8-ab61-bcfccfeb869a",
   "metadata": {},
   "outputs": [
    {
     "name": "stdout",
     "output_type": "stream",
     "text": [
      "<class 'pandas.core.frame.DataFrame'>\n",
      "RangeIndex: 320 entries, 0 to 319\n",
      "Data columns (total 3 columns):\n",
      " #   Column       Non-Null Count  Dtype \n",
      "---  ------       --------------  ----- \n",
      " 0   page_no      320 non-null    int64 \n",
      " 1   scene_title  320 non-null    object\n",
      " 2   text         320 non-null    object\n",
      "dtypes: int64(1), object(2)\n",
      "memory usage: 7.6+ KB\n"
     ]
    }
   ],
   "source": [
    "df.info()"
   ]
  },
  {
   "cell_type": "code",
   "execution_count": 6,
   "id": "31b1b0d0-b1c2-4321-b636-1d3472eb471d",
   "metadata": {},
   "outputs": [],
   "source": [
    "#전처리"
   ]
  },
  {
   "cell_type": "code",
   "execution_count": 7,
   "id": "ee8153fb-062c-482a-8030-ad01eeb9aa4f",
   "metadata": {},
   "outputs": [],
   "source": [
    "def apply_regular_expression(text):\n",
    "    text = text.lower()\n",
    "    english = re.compile('[^ a-z]')\n",
    "    result = english.sub('', text)\n",
    "    result = re.sub(' +', ' ',result)\n",
    "    return result"
   ]
  },
  {
   "cell_type": "code",
   "execution_count": 8,
   "id": "4c75a187-94fb-4236-8147-6bed68eb8ffa",
   "metadata": {},
   "outputs": [
    {
     "data": {
      "text/plain": [
       "' its raining light strobes across the wet glass at a rhythmic pace suddenly through the window a face jason bourne riding in the backseat his gaze fixed '"
      ]
     },
     "execution_count": 8,
     "metadata": {},
     "output_type": "execute_result"
    }
   ],
   "source": [
    "#확인\n",
    "apply_regular_expression(df['text'][0])"
   ]
  },
  {
   "cell_type": "code",
   "execution_count": 9,
   "id": "44f29b7d-db59-4b78-902f-efdff58934f9",
   "metadata": {},
   "outputs": [],
   "source": [
    "#전체적용\n",
    "df['preprocessed_text'] = df['text'].apply(lambda x: apply_regular_expression(x))"
   ]
  },
  {
   "cell_type": "code",
   "execution_count": 10,
   "id": "28082463-d8be-4916-be39-6d485f1196d3",
   "metadata": {},
   "outputs": [
    {
     "data": {
      "text/html": [
       "<div>\n",
       "<style scoped>\n",
       "    .dataframe tbody tr th:only-of-type {\n",
       "        vertical-align: middle;\n",
       "    }\n",
       "\n",
       "    .dataframe tbody tr th {\n",
       "        vertical-align: top;\n",
       "    }\n",
       "\n",
       "    .dataframe thead th {\n",
       "        text-align: right;\n",
       "    }\n",
       "</style>\n",
       "<table border=\"1\" class=\"dataframe\">\n",
       "  <thead>\n",
       "    <tr style=\"text-align: right;\">\n",
       "      <th></th>\n",
       "      <th>page_no</th>\n",
       "      <th>scene_title</th>\n",
       "      <th>text</th>\n",
       "      <th>preprocessed_text</th>\n",
       "    </tr>\n",
       "  </thead>\n",
       "  <tbody>\n",
       "    <tr>\n",
       "      <th>0</th>\n",
       "      <td>1</td>\n",
       "      <td>1         EXT. MERCEDES WINDSHIELD -- DUSK</td>\n",
       "      <td>1                It's raining...             ...</td>\n",
       "      <td>its raining light strobes across the wet glas...</td>\n",
       "    </tr>\n",
       "    <tr>\n",
       "      <th>1</th>\n",
       "      <td>1</td>\n",
       "      <td>A1        INT. MERCEDES -- NIGHT</td>\n",
       "      <td>A1                On his knee -- a syringe an...</td>\n",
       "      <td>a on his knee a syringe and a gun the eyes of...</td>\n",
       "    </tr>\n",
       "    <tr>\n",
       "      <th>2</th>\n",
       "      <td>1</td>\n",
       "      <td>2         INT. COTTAGE BEDROOM -- NIGHT</td>\n",
       "      <td>2                BOURNE'S EYES OPEN! -- panic...</td>\n",
       "      <td>bournes eyes open panicked gasping trying to ...</td>\n",
       "    </tr>\n",
       "    <tr>\n",
       "      <th>3</th>\n",
       "      <td>1</td>\n",
       "      <td>A2        INT. COTTAGE LIVING AREA/BATHROOM ...</td>\n",
       "      <td>A2                BOURNE moving for the medic...</td>\n",
       "      <td>a bourne moving for the medicine cabinet digs...</td>\n",
       "    </tr>\n",
       "    <tr>\n",
       "      <th>4</th>\n",
       "      <td>2</td>\n",
       "      <td>3         INT./EXT. COTTAGE LIVING ROOM/VERA...</td>\n",
       "      <td>3                One minute later.  BOURNE mo...</td>\n",
       "      <td>one minute later bourne moves out onto the ve...</td>\n",
       "    </tr>\n",
       "  </tbody>\n",
       "</table>\n",
       "</div>"
      ],
      "text/plain": [
       "   page_no                                        scene_title  \\\n",
       "0        1         1         EXT. MERCEDES WINDSHIELD -- DUSK   \n",
       "1        1                   A1        INT. MERCEDES -- NIGHT   \n",
       "2        1            2         INT. COTTAGE BEDROOM -- NIGHT   \n",
       "3        1    A2        INT. COTTAGE LIVING AREA/BATHROOM ...   \n",
       "4        2    3         INT./EXT. COTTAGE LIVING ROOM/VERA...   \n",
       "\n",
       "                                                text  \\\n",
       "0   1                It's raining...             ...   \n",
       "1   A1                On his knee -- a syringe an...   \n",
       "2   2                BOURNE'S EYES OPEN! -- panic...   \n",
       "3   A2                BOURNE moving for the medic...   \n",
       "4   3                One minute later.  BOURNE mo...   \n",
       "\n",
       "                                   preprocessed_text  \n",
       "0   its raining light strobes across the wet glas...  \n",
       "1   a on his knee a syringe and a gun the eyes of...  \n",
       "2   bournes eyes open panicked gasping trying to ...  \n",
       "3   a bourne moving for the medicine cabinet digs...  \n",
       "4   one minute later bourne moves out onto the ve...  "
      ]
     },
     "execution_count": 10,
     "metadata": {},
     "output_type": "execute_result"
    }
   ],
   "source": [
    "df.head()"
   ]
  },
  {
   "cell_type": "code",
   "execution_count": 11,
   "id": "ac842242-11ec-4634-8980-e8d013449fee",
   "metadata": {},
   "outputs": [],
   "source": [
    "#wordCount"
   ]
  },
  {
   "cell_type": "code",
   "execution_count": 12,
   "id": "6bd815ee-bf40-4f57-8d6f-876bb25f8aa1",
   "metadata": {},
   "outputs": [
    {
     "data": {
      "text/plain": [
       "[' its raining light strobes across the wet glass at a rhythmic pace suddenly through the window a face jason bourne riding in the backseat his gaze fixed ',\n",
       " ' a on his knee a syringe and a gun the eyes of the driver jarda watching bournes pov the passenger back of his head cell phone rings the head turns its conklin bourne returns his stare ',\n",
       " ' bournes eyes open panicked gasping trying to stay quiet marie sleeps ',\n",
       " ' a bourne moving for the medicine cabinet digs through the medicine cabinet downs something specific ',\n",
       " ' one minute later bourne moves out onto the veranda marie pads in watching him for a moment concerned clearly its not the first time this has happened they both look different than last we saw them his hair is longer shes a blonde hippie travelers their cottage is humble but sweet the bedroom opens to a beach and a town just down the hill club music from some all night rave wafting in from the far distance marie where were you jason bourne in the car conklin up front marie ill get the book bourne no theres nothing new marie youre sure he nods we should still we should write it down bourne two years were scribbling in a notebook marie it hasnt been two years bourne its always bad and its never anything but bits and pieces anyway shes gone quiet you ever think that maybe its just making it worse you dont wonder that she lays her hands on his shoulders steadies him marie we write them down because sooner or later youre going to remember something good bourne softens i do remember something good all the time i remember you she smiles kisses him leads him back in ']"
      ]
     },
     "execution_count": 12,
     "metadata": {},
     "output_type": "execute_result"
    }
   ],
   "source": [
    "#말뭉치 (코퍼스) 생성\n",
    "\n",
    "corpus = df['preprocessed_text'].tolist()\n",
    "corpus[:5] #간략히 확인"
   ]
  },
  {
   "cell_type": "code",
   "execution_count": 13,
   "id": "9bad8ba7-9ea3-4e97-8951-4d761d47ddd2",
   "metadata": {},
   "outputs": [],
   "source": [
    "#BOW 백터 생성\n",
    "\n",
    "from sklearn.feature_extraction.text import CountVectorizer\n",
    "\n",
    "vect = CountVectorizer(tokenizer=None, stop_words=\"english\", analyzer='word').fit(corpus)\n",
    "bow_vect = vect.fit_transform(corpus)\n",
    "word_list = vect.get_feature_names()\n",
    "count_list = bow_vect.toarray().sum(axis = 0)"
   ]
  },
  {
   "cell_type": "code",
   "execution_count": 14,
   "id": "563b6b82-1b97-497b-844c-ed39c045bc0f",
   "metadata": {},
   "outputs": [
    {
     "data": {
      "text/plain": [
       "array([ 3,  3,  2, ...,  1, 42,  3], dtype=int64)"
      ]
     },
     "execution_count": 14,
     "metadata": {},
     "output_type": "execute_result"
    }
   ],
   "source": [
    "count_list"
   ]
  },
  {
   "cell_type": "code",
   "execution_count": 15,
   "id": "8c90dd4e-f551-4288-97b0-985147e7b478",
   "metadata": {},
   "outputs": [
    {
     "data": {
      "text/plain": [
       "[('bourne', 455),\n",
       " ('pamela', 199),\n",
       " ('abbott', 128),\n",
       " ('hes', 100),\n",
       " ('kirill', 93),\n",
       " ('nicky', 90),\n",
       " ('cronin', 81),\n",
       " ('just', 80),\n",
       " ('marie', 67),\n",
       " ('contd', 63)]"
      ]
     },
     "execution_count": 15,
     "metadata": {},
     "output_type": "execute_result"
    }
   ],
   "source": [
    "word_count_dict = dict(zip(word_list, count_list))\n",
    "\n",
    "import operator\n",
    "\n",
    "sorted(word_count_dict.items(), key=operator.itemgetter(1), reverse=True)[:10]"
   ]
  },
  {
   "cell_type": "code",
   "execution_count": 16,
   "id": "b57f4865-7083-4dd3-bd86-9bfbd136aa91",
   "metadata": {},
   "outputs": [
    {
     "data": {
      "image/png": "[encoded data removed]",
      "text/plain": [
       "<Figure size 432x288 with 1 Axes>"
      ]
     },
     "metadata": {
      "needs_background": "light"
     },
     "output_type": "display_data"
    }
   ],
   "source": [
    "#단어 분포 탐색\n",
    "plt.hist(list(word_count_dict.values()), bins=150)\n",
    "plt.show()"
   ]
  },
  {
   "cell_type": "code",
   "execution_count": 17,
   "id": "5af36d96-7bb1-49bb-8a24-6b3a06ff0165",
   "metadata": {},
   "outputs": [
    {
     "data": {
      "text/plain": [
       "'\\n워드클라우드 시각화\\n'"
      ]
     },
     "execution_count": 17,
     "metadata": {},
     "output_type": "execute_result"
    }
   ],
   "source": [
    "#텍스트 마이닝 \n",
    "\"\"\"\n",
    "워드클라우드 시각화\n",
    "\"\"\""
   ]
  },
  {
   "cell_type": "code",
   "execution_count": 18,
   "id": "179b3dbb-1fb3-40d8-a9b0-d3283a8a4891",
   "metadata": {},
   "outputs": [
    {
     "name": "stdout",
     "output_type": "stream",
     "text": [
      "Requirement already satisfied: pytagcloud in c:\\users\\user\\anaconda3\\lib\\site-packages (0.3.5)\n",
      "Requirement already satisfied: pygame in c:\\users\\user\\anaconda3\\lib\\site-packages (2.1.0)\n",
      "Requirement already satisfied: simplejson in c:\\users\\user\\anaconda3\\lib\\site-packages (3.17.6)\n"
     ]
    }
   ],
   "source": [
    "!pip install pytagcloud pygame simplejson"
   ]
  },
  {
   "cell_type": "code",
   "execution_count": 19,
   "id": "ba390d30-cea5-4944-99db-30e1bbf7da63",
   "metadata": {},
   "outputs": [
    {
     "name": "stdout",
     "output_type": "stream",
     "text": [
      "pygame 2.1.0 (SDL 2.0.16, Python 3.8.8)\n",
      "Hello from the pygame community. https://www.pygame.org/contribute.html\n"
     ]
    },
    {
     "data": {
      "image/jpeg": "[encoded data removed]",
      "text/plain": [
       "<IPython.core.display.Image object>"
      ]
     },
     "execution_count": 19,
     "metadata": {},
     "output_type": "execute_result"
    }
   ],
   "source": [
    "from collections import Counter\n",
    "\n",
    "import random\n",
    "import pytagcloud\n",
    "import webbrowser\n",
    "\n",
    "ranked_tags = Counter(word_count_dict).most_common(25)\n",
    "taglist = pytagcloud.make_tags(sorted(word_count_dict.items(), key=operator.itemgetter(1), reverse=True)[:40], maxsize=60)\n",
    "pytagcloud.create_tag_image(taglist, 'wordcloud_example.jpg', \n",
    "                            rectangular=False)\n",
    "\n",
    "from IPython.display import Image\n",
    "Image(filename='wordcloud_example.jpg')"
   ]
  },
  {
   "cell_type": "code",
   "execution_count": 20,
   "id": "0b43f132-de39-4372-a95a-645e0bdc4242",
   "metadata": {},
   "outputs": [
    {
     "data": {
      "text/plain": [
       "[('bourne', 455),\n",
       " ('pamela', 199),\n",
       " ('abbott', 128),\n",
       " ('hes', 100),\n",
       " ('kirill', 93),\n",
       " ('nicky', 90),\n",
       " ('cronin', 81),\n",
       " ('just', 80),\n",
       " ('marie', 67),\n",
       " ('contd', 63),\n",
       " ('know', 61),\n",
       " ('car', 51),\n",
       " ('away', 48),\n",
       " ('room', 44),\n",
       " ('jarda', 43),\n",
       " ('looks', 43),\n",
       " ('dont', 42),\n",
       " ('zorn', 42),\n",
       " ('phone', 40),\n",
       " ('right', 39),\n",
       " ('theres', 39),\n",
       " ('police', 38),\n",
       " ('want', 38),\n",
       " ('berlin', 37),\n",
       " ('teddy', 35)]"
      ]
     },
     "execution_count": 20,
     "metadata": {},
     "output_type": "execute_result"
    }
   ],
   "source": [
    "Counter(word_count_dict).most_common(25)"
   ]
  },
  {
   "cell_type": "code",
   "execution_count": 21,
   "id": "26f09776-00e2-4b37-8072-648ef34353c0",
   "metadata": {},
   "outputs": [],
   "source": [
    "#장면별 주요 시각화\n",
    "\n",
    "from sklearn.feature_extraction.text import TfidfTransformer\n",
    "\n",
    "tfidf_vectorizer = TfidfTransformer()\n",
    "tf_idf_vect = tfidf_vectorizer.fit_transform(bow_vect)"
   ]
  },
  {
   "cell_type": "code",
   "execution_count": 22,
   "id": "0b6c2212-3190-4b1b-a704-52bc980c0622",
   "metadata": {},
   "outputs": [
    {
     "name": "stdout",
     "output_type": "stream",
     "text": [
      "(320, 2850)\n",
      "  (0, 2788)\t0.19578974958217082\n",
      "  (0, 2763)\t0.27550455848587985\n",
      "  (0, 2412)\t0.1838379942679887\n",
      "  (0, 2387)\t0.3109660261831164\n",
      "  (0, 1984)\t0.2902223973596984\n",
      "  (0, 1978)\t0.3109660261831164\n",
      "  (0, 1898)\t0.27550455848587985\n",
      "  (0, 1673)\t0.2902223973596984\n",
      "  (0, 1366)\t0.21520447034992146\n",
      "  (0, 1251)\t0.19855583314180728\n",
      "  (0, 1001)\t0.2340173008390438\n",
      "  (0, 974)\t0.2902223973596984\n",
      "  (0, 874)\t0.27550455848587985\n",
      "  (0, 798)\t0.1906694714764746\n",
      "  (0, 237)\t0.08646242181596513\n",
      "  (0, 125)\t0.26408851574819875\n"
     ]
    }
   ],
   "source": [
    "print(tf_idf_vect.shape)\n",
    "print(tf_idf_vect[0])"
   ]
  },
  {
   "cell_type": "code",
   "execution_count": 23,
   "id": "4fb09038-7356-44ea-9b06-2628a9e6b39a",
   "metadata": {},
   "outputs": [
    {
     "name": "stdout",
     "output_type": "stream",
     "text": [
      "(1, 2850)\n",
      "[[0. 0. 0. ... 0. 0. 0.]]\n"
     ]
    }
   ],
   "source": [
    "print(tf_idf_vect[0].toarray().shape)\n",
    "print(tf_idf_vect[0].toarray())"
   ]
  },
  {
   "cell_type": "code",
   "execution_count": 24,
   "id": "da39ea01-4aff-4739-b297-52455dedff2f",
   "metadata": {},
   "outputs": [
    {
     "name": "stdout",
     "output_type": "stream",
     "text": [
      "{1898: 'raining', 1366: 'light', 2387: 'strobes', 2763: 'wet', 1001: 'glass', 1978: 'rhythmic', 1673..\n"
     ]
    }
   ],
   "source": [
    "#백터 단어 매칭\n",
    "invert_index_vectorizer = {v: k for k, v in vect.vocabulary_.items()}\n",
    "print(str(invert_index_vectorizer)[:100]+'..')"
   ]
  },
  {
   "cell_type": "code",
   "execution_count": 25,
   "id": "7ce93bf3-4a58-4f66-b84a-5ab1926de182",
   "metadata": {},
   "outputs": [
    {
     "data": {
      "text/plain": [
       "array([1984, 2387, 1978], dtype=int64)"
      ]
     },
     "execution_count": 25,
     "metadata": {},
     "output_type": "execute_result"
    }
   ],
   "source": [
    "#중요 단어 추출 TOP3 TF-IDF\n",
    "np.argsort(tf_idf_vect[0].toarray())[0][-3:]"
   ]
  },
  {
   "cell_type": "code",
   "execution_count": 26,
   "id": "a26ac6a1-86f6-47ab-a061-57111a829f4f",
   "metadata": {},
   "outputs": [
    {
     "data": {
      "text/plain": [
       "array([[1984, 2387, 1978],\n",
       "       [1297, 1971, 1097],\n",
       "       [1693, 2221,  968],\n",
       "       [ 690,  299, 1482],\n",
       "       [2823, 1951, 1454],\n",
       "       [2218, 2815, 1454],\n",
       "       [2038,  737, 2418],\n",
       "       [ 852, 2761, 2570],\n",
       "       [2022,  156, 1352],\n",
       "       [2250, 2241, 1454],\n",
       "       [ 342,  321, 2188],\n",
       "       [ 614, 1557, 1534],\n",
       "       [ 535, 1884, 1614],\n",
       "       [2188,  139,   20],\n",
       "       [ 503,  730, 1458],\n",
       "       [2790, 2384,  724],\n",
       "       [ 169,  915, 2444],\n",
       "       [1905, 1259,   53],\n",
       "       [2566, 1335,  828],\n",
       "       [2300,  281, 1702],\n",
       "       [2503, 1502, 2567],\n",
       "       [ 794, 1454, 1018],\n",
       "       [ 698, 2559, 1252],\n",
       "       [1871,  237, 1454],\n",
       "       [ 204,  911, 2591],\n",
       "       [ 237,  596, 1454],\n",
       "       [  52,  941, 1036],\n",
       "       [ 211, 1156,  206],\n",
       "       [1193, 2712, 1454],\n",
       "       [  52, 1809, 2462],\n",
       "       [ 237, 1454,  702],\n",
       "       [2130,  237, 1454],\n",
       "       [1995, 1890,  321],\n",
       "       [1011,  259, 1454],\n",
       "       [1985, 2216, 1819],\n",
       "       [ 420, 2276, 1454],\n",
       "       [2019, 1103, 2059],\n",
       "       [2177,  353, 1252],\n",
       "       [1642, 1291, 2797],\n",
       "       [1454, 1012, 2439],\n",
       "       [2000, 2429, 2051],\n",
       "       [2111, 1559, 2661],\n",
       "       [1737, 1291, 2429],\n",
       "       [1116, 2079,   46],\n",
       "       [2634,  697,  392],\n",
       "       [1723, 1015, 1071],\n",
       "       [1443, 2700, 2486],\n",
       "       [ 332, 2354,  786],\n",
       "       [1165,  543,  975],\n",
       "       [1169, 2434, 1986],\n",
       "       [1509, 2486, 2335],\n",
       "       [1001, 2686, 1509],\n",
       "       [1289,  854,  219],\n",
       "       [2758, 1687, 1460],\n",
       "       [ 544, 1031,  854],\n",
       "       [2686,  741,  726],\n",
       "       [ 790,  625, 2794],\n",
       "       [ 955,  367, 2583],\n",
       "       [ 337, 1238, 2686],\n",
       "       [ 340, 1634, 2490],\n",
       "       [1238, 2248, 2686],\n",
       "       [ 624,  789, 2538],\n",
       "       [ 579,  341,  805],\n",
       "       [ 543,  270,  577],\n",
       "       [  68,  146,  708],\n",
       "       [1291, 1100, 1069],\n",
       "       [ 162, 1291, 1033],\n",
       "       [ 300, 2786, 1900],\n",
       "       [ 543, 1687, 2380],\n",
       "       [ 431,  782,  917],\n",
       "       [2006,  128, 1751],\n",
       "       [1687,  543, 2485],\n",
       "       [ 552, 1866,  235],\n",
       "       [2695,  762, 1102],\n",
       "       [ 265, 2641,   56],\n",
       "       [ 612, 1691,  441],\n",
       "       [1654,  692, 1363],\n",
       "       [2136,  243, 1688],\n",
       "       [   7, 2848,    6],\n",
       "       [2596, 1687,    4],\n",
       "       [2635, 1483,  841],\n",
       "       [ 653, 2650, 1882],\n",
       "       [1687,  481,    4],\n",
       "       [1715, 1198, 1633],\n",
       "       [2219, 2482,  169],\n",
       "       [1541, 2423,  538],\n",
       "       [ 322, 1633, 1198],\n",
       "       [1460,    4,  414],\n",
       "       [1307,  270, 1593],\n",
       "       [1407, 1687,  543],\n",
       "       [ 237,  491, 1593],\n",
       "       [ 792,  348, 2665],\n",
       "       [1055, 1747, 1593],\n",
       "       [2010, 1868, 1403],\n",
       "       [  80, 2415, 2611],\n",
       "       [2361, 1747, 1593],\n",
       "       [1687, 1594, 1688],\n",
       "       [1310, 1593,  143],\n",
       "       [2825, 1688, 1594],\n",
       "       [1460,    4, 1687],\n",
       "       [   4,  508, 2848],\n",
       "       [1745,  983, 1612],\n",
       "       [ 180,  491, 1690],\n",
       "       [1496,  132, 1600],\n",
       "       [1687, 1105, 1600],\n",
       "       [2849, 2211, 2378],\n",
       "       [ 173, 1687, 1600],\n",
       "       [1757, 2379,  652],\n",
       "       [2368, 2086, 1609],\n",
       "       [   4, 1312, 1572],\n",
       "       [1725, 1863, 1418],\n",
       "       [1873, 1274,  270],\n",
       "       [1291, 2718,  683],\n",
       "       [ 108, 1033, 2421],\n",
       "       [1104,  650,  382],\n",
       "       [ 491,  237, 1248],\n",
       "       [2768, 1561, 1247],\n",
       "       [ 939,  237, 1248],\n",
       "       [1561, 2008, 1721],\n",
       "       [ 883,  623, 1248],\n",
       "       [ 944, 1561, 1246],\n",
       "       [ 855, 1248, 1055],\n",
       "       [ 458, 1914, 1250],\n",
       "       [ 930,  966, 2550],\n",
       "       [2380, 2516, 2625],\n",
       "       [ 670,  228,   81],\n",
       "       [2660, 1780,  902],\n",
       "       [2371, 2553, 2515],\n",
       "       [1716,  706,   93],\n",
       "       [ 926,  780, 2848],\n",
       "       [1585,  659, 1118],\n",
       "       [1967, 1180,  208],\n",
       "       [1992,  268, 2741],\n",
       "       [ 237, 1521, 2377],\n",
       "       [2178, 2003, 1296],\n",
       "       [ 608, 2504,  970],\n",
       "       [2849,  237,  706],\n",
       "       [1655, 1049, 2700],\n",
       "       [1160, 1322, 2197],\n",
       "       [2375, 2223, 1776],\n",
       "       [2475,  725, 2381],\n",
       "       [ 703,  258,  481],\n",
       "       [2646, 2229,  467],\n",
       "       [ 237, 1059, 2067],\n",
       "       [1828, 1669, 2112],\n",
       "       [ 741, 1390,  783],\n",
       "       [1562, 2407,  543],\n",
       "       [ 295, 1269, 1906],\n",
       "       [2437,  771,  703],\n",
       "       [1291, 2245,  260],\n",
       "       [2368, 2008, 2437],\n",
       "       [ 891, 1400, 1960],\n",
       "       [  62, 2185, 1676],\n",
       "       [1465,  919,  241],\n",
       "       [2658, 1358, 1582],\n",
       "       [1091,  595, 1002],\n",
       "       [ 738, 1424, 1600],\n",
       "       [2726, 1600, 1687],\n",
       "       [2451, 2787,  273],\n",
       "       [   4,  680, 1687],\n",
       "       [ 755,  401,  155],\n",
       "       [1593,    4, 1413],\n",
       "       [ 607, 1600, 1817],\n",
       "       [2329, 1144,  254],\n",
       "       [  80, 1601, 2582],\n",
       "       [ 606, 1600, 2582],\n",
       "       [1434,  630, 1381],\n",
       "       [2551, 1350,  173],\n",
       "       [ 727, 2137, 2702],\n",
       "       [1931, 1600, 1307],\n",
       "       [1692,  372, 1893],\n",
       "       [1830,  237, 1600],\n",
       "       [ 504, 2344,  606],\n",
       "       [2408,  819,  763],\n",
       "       [2623, 1342, 1228],\n",
       "       [1033, 1319,  890],\n",
       "       [ 521,  481,  293],\n",
       "       [  10,  826, 2586],\n",
       "       [ 167,  237, 1600],\n",
       "       [2014, 1687, 2137],\n",
       "       [1700,  218, 2120],\n",
       "       [1225, 2750,  942],\n",
       "       [ 442, 2848,    4],\n",
       "       [ 981,  258, 1918],\n",
       "       [2323, 2355, 2848],\n",
       "       [ 221,    4, 2848],\n",
       "       [   1,    0, 1160],\n",
       "       [   8, 2014,  411],\n",
       "       [1984,  694, 1552],\n",
       "       [1775, 2133,  829],\n",
       "       [1441, 2053, 2205],\n",
       "       [  55,  275,  267],\n",
       "       [1647, 1306, 2014],\n",
       "       [2415, 2416,  878],\n",
       "       [2780,  650, 1171],\n",
       "       [2329,  673,  256],\n",
       "       [ 833, 1111, 1813],\n",
       "       [ 366,  543, 2485],\n",
       "       [1896, 2495, 1196],\n",
       "       [2604,  651, 1389],\n",
       "       [1344, 1272,  882],\n",
       "       [1558, 1517, 1590],\n",
       "       [1697, 1661, 2192],\n",
       "       [1444,  319, 2507],\n",
       "       [2615, 2318,  255],\n",
       "       [2746, 2477, 2441],\n",
       "       [1730, 2014, 1988],\n",
       "       [ 124,  133, 2435],\n",
       "       [1439, 1712, 1700],\n",
       "       [1282, 1137,  896],\n",
       "       [2788, 1548,  152],\n",
       "       [1659, 1340, 2015],\n",
       "       [1486, 2441, 2011],\n",
       "       [1555, 2767,  349],\n",
       "       [ 204,  762,  784],\n",
       "       [1894,  407, 2014],\n",
       "       [ 796,   88, 2077],\n",
       "       [2728, 2323, 2659],\n",
       "       [1291, 2011, 1110],\n",
       "       [ 577,  374, 2485],\n",
       "       [2300, 1830,   11],\n",
       "       [1160, 2485,    4],\n",
       "       [1147, 2777,  954],\n",
       "       [2284,  973,  823],\n",
       "       [ 116, 1548, 2480],\n",
       "       [2235,  334, 1721],\n",
       "       [2207, 1801, 2000],\n",
       "       [ 684, 1895, 2582],\n",
       "       [2149, 1321, 1354],\n",
       "       [1056,  580,   45],\n",
       "       [2424, 1346,  145],\n",
       "       [2159,  145, 2582],\n",
       "       [ 752,  498, 2246],\n",
       "       [2014, 1687,  543],\n",
       "       [1687, 1590,  543],\n",
       "       [1193, 1033,    4],\n",
       "       [1333, 2234, 2082],\n",
       "       [2230, 1291, 1033],\n",
       "       [ 238,  870,    4],\n",
       "       [ 543, 1687, 2485],\n",
       "       [1372,  493,   91],\n",
       "       [1396, 1970, 2341],\n",
       "       [1301,  318, 2236],\n",
       "       [1506,  791, 2577],\n",
       "       [1687, 2460, 2485],\n",
       "       [ 615,  230, 1800],\n",
       "       [2537,  474, 2696],\n",
       "       [1490, 1312,  543],\n",
       "       [ 357,  237, 1454],\n",
       "       [ 187, 2244, 2597],\n",
       "       [ 543, 1687,    4],\n",
       "       [ 741, 1999, 1201],\n",
       "       [1685, 1747, 1033],\n",
       "       [2588,  543, 1747],\n",
       "       [1305, 1033,    4],\n",
       "       [1938,  925,  924],\n",
       "       [1305,  543, 2485],\n",
       "       [1170, 1687,    4],\n",
       "       [ 653,  728, 1782],\n",
       "       [1266,   90,  817],\n",
       "       [2626,  703, 2475],\n",
       "       [1416, 1279, 2305],\n",
       "       [2711,  703, 2475],\n",
       "       [ 113, 1177, 1769],\n",
       "       [1225, 2166,  820],\n",
       "       [1272,  881,  297],\n",
       "       [2638,  880,  674],\n",
       "       [2129,  960, 1500],\n",
       "       [ 351,  903,  774],\n",
       "       [1731, 2240, 2446],\n",
       "       [ 642, 2137, 2475],\n",
       "       [2076, 1371,  369],\n",
       "       [  72,  703, 2475],\n",
       "       [1915, 2070, 2475],\n",
       "       [1546,  334, 2480],\n",
       "       [ 707, 1913, 1989],\n",
       "       [2215,  872, 2669],\n",
       "       [1999,  488, 1182],\n",
       "       [1291,  508, 2208],\n",
       "       [2367, 1361, 2286],\n",
       "       [ 918, 1670,  179],\n",
       "       [2215, 1713, 1670],\n",
       "       [1649, 2831, 1142],\n",
       "       [1768, 1268, 1361],\n",
       "       [ 434,  137, 2535],\n",
       "       [2081,  181, 2140],\n",
       "       [1867,  664, 1219],\n",
       "       [1344, 1056, 1546],\n",
       "       [1556,  197, 1123],\n",
       "       [1077, 1546,  709],\n",
       "       [2086, 2390,   89],\n",
       "       [1175,  160, 1176],\n",
       "       [1057, 1315, 1088],\n",
       "       [1110, 1260,  454],\n",
       "       [1546, 2022, 1457],\n",
       "       [1127, 1045, 2085],\n",
       "       [ 630, 2304,  533],\n",
       "       [1019,  280, 1453],\n",
       "       [1291, 2304, 2327],\n",
       "       [2469,  716,  233],\n",
       "       [ 549,  884,  844],\n",
       "       [2701,  493, 2449],\n",
       "       [ 237,  295,  296],\n",
       "       [ 754,  327, 1729],\n",
       "       [1683,  702,  466],\n",
       "       [1061, 1316,  714],\n",
       "       [ 334, 1987, 1801],\n",
       "       [2622, 1291,  295],\n",
       "       [ 237, 1407,   51],\n",
       "       [ 654, 1636, 2453],\n",
       "       [1155, 2569, 1737],\n",
       "       [1037, 1494, 2488],\n",
       "       [ 419,  887, 1271],\n",
       "       [1277,  676,  661],\n",
       "       [ 555,  237, 1232],\n",
       "       [ 445,  177, 1560],\n",
       "       [ 237,   51, 1687],\n",
       "       [1600, 1621, 2102],\n",
       "       [ 162, 1566, 1864],\n",
       "       [  46,  803,  646]], dtype=int64)"
      ]
     },
     "execution_count": 26,
     "metadata": {},
     "output_type": "execute_result"
    }
   ],
   "source": [
    "np.argsort(tf_idf_vect.toarray())[:, -3:]"
   ]
  },
  {
   "cell_type": "code",
   "execution_count": 27,
   "id": "4cdc601e-9ba5-4757-abe1-5346d1c60402",
   "metadata": {},
   "outputs": [
    {
     "data": {
      "text/html": [
       "<div>\n",
       "<style scoped>\n",
       "    .dataframe tbody tr th:only-of-type {\n",
       "        vertical-align: middle;\n",
       "    }\n",
       "\n",
       "    .dataframe tbody tr th {\n",
       "        vertical-align: top;\n",
       "    }\n",
       "\n",
       "    .dataframe thead th {\n",
       "        text-align: right;\n",
       "    }\n",
       "</style>\n",
       "<table border=\"1\" class=\"dataframe\">\n",
       "  <thead>\n",
       "    <tr style=\"text-align: right;\">\n",
       "      <th></th>\n",
       "      <th>page_no</th>\n",
       "      <th>scene_title</th>\n",
       "      <th>text</th>\n",
       "      <th>preprocessed_text</th>\n",
       "      <th>important_word_indexes</th>\n",
       "    </tr>\n",
       "  </thead>\n",
       "  <tbody>\n",
       "    <tr>\n",
       "      <th>0</th>\n",
       "      <td>1</td>\n",
       "      <td>1         EXT. MERCEDES WINDSHIELD -- DUSK</td>\n",
       "      <td>1                It's raining...             ...</td>\n",
       "      <td>its raining light strobes across the wet glas...</td>\n",
       "      <td>[1984, 2387, 1978]</td>\n",
       "    </tr>\n",
       "    <tr>\n",
       "      <th>1</th>\n",
       "      <td>1</td>\n",
       "      <td>A1        INT. MERCEDES -- NIGHT</td>\n",
       "      <td>A1                On his knee -- a syringe an...</td>\n",
       "      <td>a on his knee a syringe and a gun the eyes of...</td>\n",
       "      <td>[1297, 1971, 1097]</td>\n",
       "    </tr>\n",
       "    <tr>\n",
       "      <th>2</th>\n",
       "      <td>1</td>\n",
       "      <td>2         INT. COTTAGE BEDROOM -- NIGHT</td>\n",
       "      <td>2                BOURNE'S EYES OPEN! -- panic...</td>\n",
       "      <td>bournes eyes open panicked gasping trying to ...</td>\n",
       "      <td>[1693, 2221, 968]</td>\n",
       "    </tr>\n",
       "    <tr>\n",
       "      <th>3</th>\n",
       "      <td>1</td>\n",
       "      <td>A2        INT. COTTAGE LIVING AREA/BATHROOM ...</td>\n",
       "      <td>A2                BOURNE moving for the medic...</td>\n",
       "      <td>a bourne moving for the medicine cabinet digs...</td>\n",
       "      <td>[690, 299, 1482]</td>\n",
       "    </tr>\n",
       "    <tr>\n",
       "      <th>4</th>\n",
       "      <td>2</td>\n",
       "      <td>3         INT./EXT. COTTAGE LIVING ROOM/VERA...</td>\n",
       "      <td>3                One minute later.  BOURNE mo...</td>\n",
       "      <td>one minute later bourne moves out onto the ve...</td>\n",
       "      <td>[2823, 1951, 1454]</td>\n",
       "    </tr>\n",
       "  </tbody>\n",
       "</table>\n",
       "</div>"
      ],
      "text/plain": [
       "   page_no                                        scene_title  \\\n",
       "0        1         1         EXT. MERCEDES WINDSHIELD -- DUSK   \n",
       "1        1                   A1        INT. MERCEDES -- NIGHT   \n",
       "2        1            2         INT. COTTAGE BEDROOM -- NIGHT   \n",
       "3        1    A2        INT. COTTAGE LIVING AREA/BATHROOM ...   \n",
       "4        2    3         INT./EXT. COTTAGE LIVING ROOM/VERA...   \n",
       "\n",
       "                                                text  \\\n",
       "0   1                It's raining...             ...   \n",
       "1   A1                On his knee -- a syringe an...   \n",
       "2   2                BOURNE'S EYES OPEN! -- panic...   \n",
       "3   A2                BOURNE moving for the medic...   \n",
       "4   3                One minute later.  BOURNE mo...   \n",
       "\n",
       "                                   preprocessed_text important_word_indexes  \n",
       "0   its raining light strobes across the wet glas...     [1984, 2387, 1978]  \n",
       "1   a on his knee a syringe and a gun the eyes of...     [1297, 1971, 1097]  \n",
       "2   bournes eyes open panicked gasping trying to ...      [1693, 2221, 968]  \n",
       "3   a bourne moving for the medicine cabinet digs...       [690, 299, 1482]  \n",
       "4   one minute later bourne moves out onto the ve...     [2823, 1951, 1454]  "
      ]
     },
     "execution_count": 27,
     "metadata": {},
     "output_type": "execute_result"
    }
   ],
   "source": [
    "top_3_word = np.argsort(tf_idf_vect.toarray())[:, -3:]\n",
    "df['important_word_indexes'] = pd.Series(top_3_word.tolist())\n",
    "df.head()"
   ]
  },
  {
   "cell_type": "code",
   "execution_count": 28,
   "id": "0a5296fa-11ec-4786-80bb-57f2547057ac",
   "metadata": {},
   "outputs": [],
   "source": [
    "def convert_to_word(x): #리스트가 들어오면 인덱스에 해당하는 KEY 값을 찾아줌\n",
    "    word_list = []\n",
    "    for word in x:\n",
    "        word_list.append(invert_index_vectorizer[word])\n",
    "    return word_list"
   ]
  },
  {
   "cell_type": "code",
   "execution_count": 29,
   "id": "daaa0bcc-ea2c-424b-b202-3a62e558aea9",
   "metadata": {},
   "outputs": [
    {
     "data": {
      "text/html": [
       "<div>\n",
       "<style scoped>\n",
       "    .dataframe tbody tr th:only-of-type {\n",
       "        vertical-align: middle;\n",
       "    }\n",
       "\n",
       "    .dataframe tbody tr th {\n",
       "        vertical-align: top;\n",
       "    }\n",
       "\n",
       "    .dataframe thead th {\n",
       "        text-align: right;\n",
       "    }\n",
       "</style>\n",
       "<table border=\"1\" class=\"dataframe\">\n",
       "  <thead>\n",
       "    <tr style=\"text-align: right;\">\n",
       "      <th></th>\n",
       "      <th>page_no</th>\n",
       "      <th>scene_title</th>\n",
       "      <th>text</th>\n",
       "      <th>preprocessed_text</th>\n",
       "      <th>important_word_indexes</th>\n",
       "      <th>important_words</th>\n",
       "    </tr>\n",
       "  </thead>\n",
       "  <tbody>\n",
       "    <tr>\n",
       "      <th>0</th>\n",
       "      <td>1</td>\n",
       "      <td>1         EXT. MERCEDES WINDSHIELD -- DUSK</td>\n",
       "      <td>1                It's raining...             ...</td>\n",
       "      <td>its raining light strobes across the wet glas...</td>\n",
       "      <td>[1984, 2387, 1978]</td>\n",
       "      <td>[riding, strobes, rhythmic]</td>\n",
       "    </tr>\n",
       "    <tr>\n",
       "      <th>1</th>\n",
       "      <td>1</td>\n",
       "      <td>A1        INT. MERCEDES -- NIGHT</td>\n",
       "      <td>A1                On his knee -- a syringe an...</td>\n",
       "      <td>a on his knee a syringe and a gun the eyes of...</td>\n",
       "      <td>[1297, 1971, 1097]</td>\n",
       "      <td>[knee, returns, head]</td>\n",
       "    </tr>\n",
       "    <tr>\n",
       "      <th>2</th>\n",
       "      <td>1</td>\n",
       "      <td>2         INT. COTTAGE BEDROOM -- NIGHT</td>\n",
       "      <td>2                BOURNE'S EYES OPEN! -- panic...</td>\n",
       "      <td>bournes eyes open panicked gasping trying to ...</td>\n",
       "      <td>[1693, 2221, 968]</td>\n",
       "      <td>[panicked, sleeps, gasping]</td>\n",
       "    </tr>\n",
       "    <tr>\n",
       "      <th>3</th>\n",
       "      <td>1</td>\n",
       "      <td>A2        INT. COTTAGE LIVING AREA/BATHROOM ...</td>\n",
       "      <td>A2                BOURNE moving for the medic...</td>\n",
       "      <td>a bourne moving for the medicine cabinet digs...</td>\n",
       "      <td>[690, 299, 1482]</td>\n",
       "      <td>[downs, cabinet, medicine]</td>\n",
       "    </tr>\n",
       "    <tr>\n",
       "      <th>4</th>\n",
       "      <td>2</td>\n",
       "      <td>3         INT./EXT. COTTAGE LIVING ROOM/VERA...</td>\n",
       "      <td>3                One minute later.  BOURNE mo...</td>\n",
       "      <td>one minute later bourne moves out onto the ve...</td>\n",
       "      <td>[2823, 1951, 1454]</td>\n",
       "      <td>[write, remember, marie]</td>\n",
       "    </tr>\n",
       "  </tbody>\n",
       "</table>\n",
       "</div>"
      ],
      "text/plain": [
       "   page_no                                        scene_title  \\\n",
       "0        1         1         EXT. MERCEDES WINDSHIELD -- DUSK   \n",
       "1        1                   A1        INT. MERCEDES -- NIGHT   \n",
       "2        1            2         INT. COTTAGE BEDROOM -- NIGHT   \n",
       "3        1    A2        INT. COTTAGE LIVING AREA/BATHROOM ...   \n",
       "4        2    3         INT./EXT. COTTAGE LIVING ROOM/VERA...   \n",
       "\n",
       "                                                text  \\\n",
       "0   1                It's raining...             ...   \n",
       "1   A1                On his knee -- a syringe an...   \n",
       "2   2                BOURNE'S EYES OPEN! -- panic...   \n",
       "3   A2                BOURNE moving for the medic...   \n",
       "4   3                One minute later.  BOURNE mo...   \n",
       "\n",
       "                                   preprocessed_text important_word_indexes  \\\n",
       "0   its raining light strobes across the wet glas...     [1984, 2387, 1978]   \n",
       "1   a on his knee a syringe and a gun the eyes of...     [1297, 1971, 1097]   \n",
       "2   bournes eyes open panicked gasping trying to ...      [1693, 2221, 968]   \n",
       "3   a bourne moving for the medicine cabinet digs...       [690, 299, 1482]   \n",
       "4   one minute later bourne moves out onto the ve...     [2823, 1951, 1454]   \n",
       "\n",
       "               important_words  \n",
       "0  [riding, strobes, rhythmic]  \n",
       "1        [knee, returns, head]  \n",
       "2  [panicked, sleeps, gasping]  \n",
       "3   [downs, cabinet, medicine]  \n",
       "4     [write, remember, marie]  "
      ]
     },
     "execution_count": 29,
     "metadata": {},
     "output_type": "execute_result"
    }
   ],
   "source": [
    "df['important_words'] = df['important_word_indexes'].apply(lambda x: convert_to_word(x))\n",
    "df.head() #가장 중요한 단어들이 3개씩 출력됨"
   ]
  }
 ],
 "metadata": {
  "kernelspec": {
   "display_name": "Python 3",
   "language": "python",
   "name": "python3"
  },
  "language_info": {
   "codemirror_mode": {
    "name": "ipython",
    "version": 3
   },
   "file_extension": ".py",
   "mimetype": "text/x-python",
   "name": "python",
   "nbconvert_exporter": "python",
   "pygments_lexer": "ipython3",
   "version": "3.8.8"
  }
 },
 "nbformat": 4,
 "nbformat_minor": 5
}
