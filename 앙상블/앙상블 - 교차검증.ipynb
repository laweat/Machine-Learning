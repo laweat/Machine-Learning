{
 "cells": [
  {
   "cell_type": "code",
   "execution_count": null,
   "id": "854c3839-035a-489d-827a-6dac478db163",
   "metadata": {},
   "outputs": [],
   "source": [
    "import pandas as pd\n",
    "import numpy as np\n",
    "from IPython.display import Image\n",
    "import warnings\n",
    "\n",
    "warnings.filterwarnings('ignore')\n",
    "\n",
    "np.set_printoptions(suppress = True)"
   ]
  },
  {
   "cell_type": "code",
   "execution_count": null,
   "id": "1ef2aa7b-4b1e-43ea-bffb-9aa568c5db19",
   "metadata": {},
   "outputs": [],
   "source": [
    "from sklearn.datasets import load_boston"
   ]
  },
  {
   "cell_type": "code",
   "execution_count": null,
   "id": "62efaa38-8af5-4bf3-b6e1-c21ef1065bfc",
   "metadata": {},
   "outputs": [],
   "source": [
    "#데이터 로드 \n",
    "data = load_boston()\n",
    "\n",
    "df = pd.DataFrame(data['data'], columns=data['feature_names'])\n",
    "df['MEDV'] = data['target']"
   ]
  },
  {
   "cell_type": "code",
   "execution_count": null,
   "id": "83628118-18d0-4b04-ab01-31c641333a7b",
   "metadata": {},
   "outputs": [],
   "source": [
    "from sklearn.model_selection import train_test_split\n",
    "\n",
    "x_train, x_test, y_train, y_test = train_test_split(df.drop('MEDV', 1), df['MEDV'], random_state=42)"
   ]
  },
  {
   "cell_type": "code",
   "execution_count": null,
   "id": "556a3c4b-9e14-443c-abf5-2b94f586d1a0",
   "metadata": {},
   "outputs": [],
   "source": [
    "#평가지표 만들기"
   ]
  },
  {
   "cell_type": "code",
   "execution_count": null,
   "id": "55d073a0-651d-4075-a33b-03cad9f6386f",
   "metadata": {},
   "outputs": [],
   "source": [
    "from sklearn.metrics import mean_absolute_error, mean_squared_error"
   ]
  },
  {
   "cell_type": "code",
   "execution_count": null,
   "id": "84ef3c15-37fc-44cc-a105-545264de8d36",
   "metadata": {},
   "outputs": [],
   "source": [
    "import matplotlib.pyplot as plt\n",
    "import seaborn as sns\n",
    "\n",
    "my_predictions = {}\n",
    "\n",
    "colors = ['r', 'c', 'm', 'y', 'k', 'khaki', 'teal', 'orchid', 'sandybrown',\n",
    "          'greenyellow', 'dodgerblue', 'deepskyblue', 'rosybrown', 'firebrick',\n",
    "          'deeppink', 'crimson', 'salmon', 'darkred', 'olivedrab', 'olive', \n",
    "          'forestgreen', 'royalblue', 'indigo', 'navy', 'mediumpurple', 'chocolate',\n",
    "          'gold', 'darkorange', 'seagreen', 'turquoise', 'steelblue', 'slategray', \n",
    "          'peru', 'midnightblue', 'slateblue', 'dimgray', 'cadetblue', 'tomato'\n",
    "         ]\n",
    "\n",
    "def plot_predictions(name_, pred, actual):\n",
    "    df = pd.DataFrame({'prediction': pred, 'actual': y_test})\n",
    "    df = df.sort_values(by='actual').reset_index(drop=True)\n",
    "\n",
    "    plt.figure(figsize=(12, 9))\n",
    "    plt.scatter(df.index, df['prediction'], marker='x', color='r')\n",
    "    plt.scatter(df.index, df['actual'], alpha=0.7, marker='o', color='black')\n",
    "    plt.title(name_, fontsize=15)\n",
    "    plt.legend(['prediction', 'actual'], fontsize=12)\n",
    "    plt.show()\n",
    "\n",
    "def mse_eval(name_, pred, actual):\n",
    "    global predictions\n",
    "    global colors\n",
    "\n",
    "    plot_predictions(name_, pred, actual)\n",
    "\n",
    "    mse = mean_squared_error(pred, actual)\n",
    "    my_predictions[name_] = mse\n",
    "\n",
    "    y_value = sorted(my_predictions.items(), key=lambda x: x[1], reverse=True)\n",
    "    \n",
    "    df = pd.DataFrame(y_value, columns=['model', 'mse'])\n",
    "    print(df)\n",
    "    min_ = df['mse'].min() - 10\n",
    "    max_ = df['mse'].max() + 10\n",
    "    \n",
    "    length = len(df)\n",
    "    \n",
    "    plt.figure(figsize=(10, length))\n",
    "    ax = plt.subplot()\n",
    "    ax.set_yticks(np.arange(len(df)))\n",
    "    ax.set_yticklabels(df['model'], fontsize=15)\n",
    "    bars = ax.barh(np.arange(len(df)), df['mse'])\n",
    "    \n",
    "    for i, v in enumerate(df['mse']):\n",
    "        idx = np.random.choice(len(colors))\n",
    "        bars[i].set_color(colors[idx])\n",
    "        ax.text(v + 2, i, str(round(v, 3)), color='k', fontsize=15, fontweight='bold')\n",
    "        \n",
    "    plt.title('MSE Error', fontsize=18)\n",
    "    plt.xlim(min_, max_)\n",
    "    \n",
    "    plt.show()\n",
    "\n",
    "def remove_model(name_):\n",
    "    global my_predictions\n",
    "    try:\n",
    "        del my_predictions[name_]\n",
    "    except KeyError:\n",
    "        return False\n",
    "    return True\n",
    "\n",
    "def plot_coef(columns, coef):\n",
    "    coef_df = pd.DataFrame(list(zip(columns, coef)))\n",
    "    coef_df.columns=['feature', 'coef']\n",
    "    coef_df = coef_df.sort_values('coef', ascending=False).reset_index(drop=True)\n",
    "    \n",
    "    fig, ax = plt.subplots(figsize=(9, 7))\n",
    "    ax.barh(np.arange(len(coef_df)), coef_df['coef'])\n",
    "    idx = np.arange(len(coef_df))\n",
    "    ax.set_yticks(idx)\n",
    "    ax.set_yticklabels(coef_df['feature'])\n",
    "    fig.tight_layout()\n",
    "    plt.show()"
   ]
  },
  {
   "cell_type": "code",
   "execution_count": null,
   "id": "6d0f6d71-8ed5-4c77-b0ed-66990e770fac",
   "metadata": {},
   "outputs": [],
   "source": [
    "from sklearn.linear_model import LinearRegression\n",
    "from sklearn.linear_model import Ridge\n",
    "from sklearn.linear_model import Lasso\n",
    "from sklearn.linear_model import ElasticNet\n",
    "from sklearn.preprocessing import StandardScaler, MinMaxScaler, RobustScaler\n",
    "from sklearn.pipeline import make_pipeline\n",
    "from sklearn.preprocessing import PolynomialFeatures"
   ]
  },
  {
   "cell_type": "code",
   "execution_count": null,
   "id": "9a36d183-445c-420b-83a8-340082162acd",
   "metadata": {},
   "outputs": [],
   "source": [
    "linear_reg = LinearRegression(n_jobs=-1)\n",
    "linear_reg.fit(x_train, y_train)\n",
    "pred = linear_reg.predict(x_test)\n",
    "mse_eval('LinearRegression', pred, y_test)"
   ]
  },
  {
   "cell_type": "code",
   "execution_count": null,
   "id": "5ab94d74-fc70-4e04-bea6-e3d32094c7be",
   "metadata": {},
   "outputs": [],
   "source": [
    "ridge = Ridge(alpha=1)\n",
    "ridge.fit(x_train, y_train)\n",
    "pred = ridge.predict(x_test)\n",
    "mse_eval('Ridge(alpha=1)', pred, y_test)"
   ]
  },
  {
   "cell_type": "code",
   "execution_count": null,
   "id": "37ee6b38-7727-41d0-8d2c-896c29c6cfe3",
   "metadata": {},
   "outputs": [],
   "source": [
    "lasso = Lasso(alpha=0.01)\n",
    "lasso.fit(x_train, y_train)\n",
    "pred = lasso.predict(x_test)\n",
    "mse_eval('Lasso(alpha=0.01)', pred, y_test)"
   ]
  },
  {
   "cell_type": "code",
   "execution_count": null,
   "id": "fdcfc717-1a4b-4360-9e38-dfe39e8b0303",
   "metadata": {},
   "outputs": [],
   "source": [
    "elasticnet = ElasticNet(alpha=0.5, l1_ratio=0.8)\n",
    "elasticnet.fit(x_train, y_train)\n",
    "pred = elasticnet.predict(x_test)\n",
    "mse_eval('ElasticNet(l1_ratio=0.8)', pred, y_test)    "
   ]
  },
  {
   "cell_type": "code",
   "execution_count": null,
   "id": "5f7ef1c3-5381-4559-9f18-f22288273bbb",
   "metadata": {},
   "outputs": [],
   "source": [
    "elasticnet_pipeline = make_pipeline(\n",
    "    StandardScaler(),\n",
    "    ElasticNet(alpha=0.1, l1_ratio=0.2)\n",
    ")\n",
    "elasticnet_pred = elasticnet_pipeline.fit(x_train, y_train).predict(x_test)\n",
    "mse_eval('Standard ElasticNet', elasticnet_pred, y_test)"
   ]
  },
  {
   "cell_type": "code",
   "execution_count": null,
   "id": "9eaa206b-5adb-466a-8a7c-22911c7b7847",
   "metadata": {},
   "outputs": [],
   "source": [
    "poly_pipeline = make_pipeline(\n",
    "    PolynomialFeatures(degree=2, include_bias=False),\n",
    "    StandardScaler(),\n",
    "    ElasticNet(alpha=0.1, l1_ratio=0.2)\n",
    ")\n",
    "poly_pred = poly_pipeline.fit(x_train, y_train).predict(x_test)\n",
    "mse_eval('Poly ElasticNet', poly_pred, y_test)"
   ]
  },
  {
   "cell_type": "code",
   "execution_count": null,
   "id": "eda95146-25d6-458d-af22-2c546a4a7661",
   "metadata": {},
   "outputs": [],
   "source": [
    "###앙상블 시작!! -- 보팅"
   ]
  },
  {
   "cell_type": "code",
   "execution_count": null,
   "id": "22393946-b0fa-4931-a539-40c9cac89fc4",
   "metadata": {},
   "outputs": [],
   "source": [
    "from sklearn.ensemble import VotingRegressor, VotingClassifier"
   ]
  },
  {
   "cell_type": "code",
   "execution_count": null,
   "id": "d16e8ecd-d88d-4956-a88b-d64e2be35a20",
   "metadata": {},
   "outputs": [],
   "source": [
    "single_models = [\n",
    "    ('linear_reg', linear_reg), \n",
    "    ('ridge', ridge), \n",
    "    ('lasso', lasso), \n",
    "    ('elasticnet_pipeline', elasticnet_pipeline), \n",
    "    ('poly_pipeline', poly_pipeline)\n",
    "]"
   ]
  },
  {
   "cell_type": "code",
   "execution_count": null,
   "id": "487bfc53-858b-46b2-82fb-3039caf6a07f",
   "metadata": {},
   "outputs": [],
   "source": [
    "voting_regressor = VotingRegressor(single_models, n_jobs=-1)"
   ]
  },
  {
   "cell_type": "code",
   "execution_count": null,
   "id": "8ad6ced2-d01b-4459-8ff6-4165d81936da",
   "metadata": {},
   "outputs": [],
   "source": [
    "voting_regressor.fit(x_train, y_train)"
   ]
  },
  {
   "cell_type": "code",
   "execution_count": null,
   "id": "1f37e91c-756a-422f-b8ac-ca50c94a80ab",
   "metadata": {},
   "outputs": [],
   "source": [
    "voting_pred = voting_regressor.predict(x_test)"
   ]
  },
  {
   "cell_type": "code",
   "execution_count": null,
   "id": "07221d80-635a-4046-aed9-06def2d04aff",
   "metadata": {},
   "outputs": [],
   "source": [
    "mse_eval('Voting Ensemble', voting_pred, y_test)"
   ]
  },
  {
   "cell_type": "code",
   "execution_count": null,
   "id": "bab8d61b-846a-4f9a-9d72-f5de93f4951b",
   "metadata": {},
   "outputs": [],
   "source": [
    "from sklearn.ensemble import RandomForestRegressor, RandomForestClassifier"
   ]
  },
  {
   "cell_type": "code",
   "execution_count": null,
   "id": "d1d583ad-5a54-45ba-a3d2-0f48d7588b36",
   "metadata": {},
   "outputs": [],
   "source": [
    "rfr = RandomForestRegressor()\n",
    "rfr_pred = rfr.fit(x_train, y_train).predict(x_test)"
   ]
  },
  {
   "cell_type": "code",
   "execution_count": null,
   "id": "36a5012c-1652-44a7-8e5b-fe71dd1bfe92",
   "metadata": {},
   "outputs": [],
   "source": [
    "mse_eval('RandomForest Ensemble', rfr_pred, y_test)"
   ]
  },
  {
   "cell_type": "code",
   "execution_count": null,
   "id": "d9a2b876-da1f-49b6-9428-c4ea8edd4ba0",
   "metadata": {},
   "outputs": [],
   "source": [
    "rfr = RandomForestRegressor(random_state=42, n_estimators = 1000, max_depth=7, max_features=0.8)\n",
    "rfr_pred = rfr.fit(x_train, y_train).predict(x_test)"
   ]
  },
  {
   "cell_type": "code",
   "execution_count": null,
   "id": "ac2adc3b-0d0d-4ce8-8da1-cc76e58023f0",
   "metadata": {},
   "outputs": [],
   "source": [
    "mse_eval('RandomForest Ensemble w/ Tunning', rfr_pred, y_test)"
   ]
  },
  {
   "cell_type": "code",
   "execution_count": null,
   "id": "4365191f-cbca-41bb-9f6c-73593214fd46",
   "metadata": {},
   "outputs": [],
   "source": [
    "# GradientBoost\n",
    "from sklearn.ensemble import GradientBoostingRegressor"
   ]
  },
  {
   "cell_type": "code",
   "execution_count": null,
   "id": "0f4d0763-45ae-44d2-9ccc-cac741100cdb",
   "metadata": {},
   "outputs": [],
   "source": [
    "gbr = GradientBoostingRegressor(random_state = 42)\n",
    "gbr_pred = gbr.fit(x_train, y_train).predict(x_test)\n",
    "mse_eval('GradientBoosting ensemble',gbr_pred, y_test)"
   ]
  },
  {
   "cell_type": "code",
   "execution_count": null,
   "id": "c940ebb2-e514-458f-a851-438222149b52",
   "metadata": {},
   "outputs": [],
   "source": [
    "gbr = GradientBoostingRegressor(random_state = 42, learning_rate=0.01)\n",
    "gbr_pred = gbr.fit(x_train, y_train).predict(x_test)\n",
    "mse_eval('GradientBoosting ensemble(lr = 0.01)',gbr_pred, y_test)"
   ]
  },
  {
   "cell_type": "code",
   "execution_count": null,
   "id": "c2aa3ad4-ed6f-4673-94bb-2ce54e619321",
   "metadata": {},
   "outputs": [],
   "source": [
    "gbr = GradientBoostingRegressor(random_state = 42, learning_rate=0.01, n_estimators=1000)\n",
    "gbr_pred = gbr.fit(x_train, y_train).predict(x_test)\n",
    "mse_eval('GradientBoosting ensemble(lr = 0.01, est=1000)',gbr_pred, y_test)"
   ]
  },
  {
   "cell_type": "code",
   "execution_count": null,
   "id": "caceb6f9-b972-4c2b-b080-b28ebab297d1",
   "metadata": {},
   "outputs": [],
   "source": [
    "gbr = GradientBoostingRegressor(random_state = 42, learning_rate=0.01, n_estimators=1000, subsample=0.8)\n",
    "gbr_pred = gbr.fit(x_train, y_train).predict(x_test)\n",
    "mse_eval('GradientBoosting ensemble(lr = 0.01, est=1000, subsample=0.8)',gbr_pred, y_test)"
   ]
  },
  {
   "cell_type": "code",
   "execution_count": null,
   "id": "0f3eb1e2-59dc-4ad5-99f8-59897ba38e02",
   "metadata": {},
   "outputs": [],
   "source": [
    "from xgboost import XGBRegressor"
   ]
  },
  {
   "cell_type": "code",
   "execution_count": null,
   "id": "145eba56-fcc0-48ca-9af4-d287485f0053",
   "metadata": {},
   "outputs": [],
   "source": [
    "xgb = XGBRegressor(random_state = 42)\n",
    "xgb_pred = xgb.fit(x_train, y_train).predict(x_test)\n",
    "mse_eval('XGBoost', xgb_pred, y_test)"
   ]
  },
  {
   "cell_type": "code",
   "execution_count": null,
   "id": "6fa454d0-de8b-433a-9c78-078291d92854",
   "metadata": {},
   "outputs": [],
   "source": [
    "xgb = XGBRegressor(random_state = 42, learning_rate = 0.01, n_estimators =1000, subsample = 0.8, max_features = 0.8, max_depth = 7)\n",
    "xgb_pred = xgb.fit(x_train, y_train).predict(x_test)\n",
    "mse_eval('XGBoost w/ Tuning', xgb_pred, y_test)"
   ]
  },
  {
   "cell_type": "code",
   "execution_count": null,
   "id": "dad89566-feb2-42aa-8fda-baf1c3f84114",
   "metadata": {},
   "outputs": [],
   "source": [
    "from lightgbm import LGBMRegressor"
   ]
  },
  {
   "cell_type": "code",
   "execution_count": null,
   "id": "de2c1d60-ab71-4918-bf38-5ff5d773183f",
   "metadata": {},
   "outputs": [],
   "source": [
    "lgbm = LGBMRegressor(random_state=42)\n",
    "lgbm_pred = lgbm.fit(x_train, y_train).predict(x_test)\n",
    "mse_eval('LGBM', lgbm_pred, y_test)"
   ]
  },
  {
   "cell_type": "code",
   "execution_count": null,
   "id": "019c3538-e472-45b5-a0a5-9731c3d37c52",
   "metadata": {},
   "outputs": [],
   "source": [
    "lgbm = LGBMRegressor(random_state=42, learning_rate=0.01, n_estimators=2000, colsample_bytree=0.8, subsample=0.8, max_depth = 7)\n",
    "lgbm_pred = lgbm.fit(x_train, y_train).predict(x_test)\n",
    "mse_eval('LGBM w/ Tuning', lgbm_pred, y_test)"
   ]
  },
  {
   "cell_type": "code",
   "execution_count": null,
   "id": "346372b3-b019-4da5-aeca-888d2e46ab58",
   "metadata": {},
   "outputs": [],
   "source": [
    "from sklearn.ensemble import StackingRegressor"
   ]
  },
  {
   "cell_type": "code",
   "execution_count": null,
   "id": "4cc7542c-921a-4ece-88a1-8d2122f19070",
   "metadata": {},
   "outputs": [],
   "source": [
    "stack_models = {\n",
    "    ('elasticent', poly_pipeline),\n",
    "    ('randomForest', rfr),\n",
    "    ('gbr', gbr),\n",
    "    ('lgbm', lgbm)\n",
    "}"
   ]
  },
  {
   "cell_type": "code",
   "execution_count": null,
   "id": "7ea93fe2-1f16-4b30-9564-6fc853f09a22",
   "metadata": {},
   "outputs": [],
   "source": [
    "stack_reg =StackingRegressor(stack_models, final_estimator=xgb, n_jobs=-1)\n",
    "stack_reg_pred = stack_reg.fit(x_train, y_train).predict(x_test)\n",
    "mse_eval('Stacking Ensemble', stack_reg_pred, y_test)"
   ]
  },
  {
   "cell_type": "code",
   "execution_count": null,
   "id": "c0ccc9da-3568-4b60-91a2-7f0e6ac4ef0e",
   "metadata": {},
   "outputs": [],
   "source": [
    "final_outputs = {\n",
    "    'elasticnet': poly_pred, \n",
    "    'randomforest': rfr_pred, \n",
    "    'gbr': gbr_pred,\n",
    "    'xgb': xgb_pred, \n",
    "    'lgbm': lgbm_pred,\n",
    "    'stacking': stack_reg_pred,\n",
    "}"
   ]
  },
  {
   "cell_type": "code",
   "execution_count": null,
   "id": "e60566dc-7bf1-404d-b27e-899336438e89",
   "metadata": {},
   "outputs": [],
   "source": [
    "final_prediction=\\\n",
    "final_outputs['elasticnet'] * 0.1\\\n",
    "+final_outputs['randomforest'] * 0.1\\\n",
    "+final_outputs['gbr'] * 0.2\\\n",
    "+final_outputs['xgb'] * 0.2\\\n",
    "+final_outputs['lgbm'] * 0.2\\\n",
    "+final_outputs['stacking'] * 0.2"
   ]
  },
  {
   "cell_type": "code",
   "execution_count": null,
   "id": "2f1b0874-8ed8-4985-a74a-26dfcd93cc9b",
   "metadata": {},
   "outputs": [],
   "source": [
    "mse_eval('Weighted Blending', final_prediction, y_test)"
   ]
  },
  {
   "cell_type": "code",
   "execution_count": null,
   "id": "fa67548f-a75b-4382-8f61-8a4eb612dc15",
   "metadata": {},
   "outputs": [],
   "source": [
    "#교차검증\n",
    "\n",
    "#Cross Validation\n",
    "\n",
    "\"\"\"\n",
    "모델을 평가하는 하나의 방법\n",
    "K-겹 교차검증을 많이 활용\n",
    "\n",
    "K-겹 교차검증이란?\n",
    "- 모든 데이터가 최소 한 번은 테스트셋으로 쓰이도록 합니다.\n",
    "\n",
    "EX)\n",
    "- Estimation 1일때\n",
    "학습 데이터 [B,C,D,E] 검증데이터 [A]\n",
    "- Estimation 2일대\n",
    "학습 데이터 [A,C,D,E] 검증데이터[B]\n",
    "\"\"\""
   ]
  },
  {
   "cell_type": "code",
   "execution_count": 59,
   "id": "11f696a4-16e3-459c-8bac-bbed33862780",
   "metadata": {},
   "outputs": [],
   "source": [
    "from sklearn.model_selection import KFold"
   ]
  },
  {
   "cell_type": "code",
   "execution_count": 60,
   "id": "ec6b4001-2437-43eb-9e8c-c8649c4b3311",
   "metadata": {},
   "outputs": [],
   "source": [
    "n_splits = 5\n",
    "kfold = KFold(n_splits=n_splits, random_state=42,shuffle=True)"
   ]
  },
  {
   "cell_type": "code",
   "execution_count": 61,
   "id": "388bf813-2b3f-4035-9b4b-3ea23162cc69",
   "metadata": {},
   "outputs": [],
   "source": [
    "X = np.array(df.drop('MEDV', 1))\n",
    "Y = np.array(df['MEDV'])"
   ]
  },
  {
   "cell_type": "code",
   "execution_count": 62,
   "id": "3a207163-6379-45e5-b602-4faed5c9f6bc",
   "metadata": {},
   "outputs": [],
   "source": [
    "lgbm_fold = LGBMRegressor(random_state=42)"
   ]
  },
  {
   "cell_type": "code",
   "execution_count": 63,
   "id": "8364f596-d0b7-485a-b96f-3f3dd9afdb21",
   "metadata": {},
   "outputs": [
    {
     "name": "stdout",
     "output_type": "stream",
     "text": [
      "Fold = 1, prediction score = 8.34\n",
      "Fold = 2, prediction score = 10.40\n",
      "Fold = 3, prediction score = 17.58\n",
      "Fold = 4, prediction score = 6.94\n",
      "Fold = 5, prediction score = 12.16\n",
      "------------------------------\n",
      "Average Error: 11.083201392666322\n"
     ]
    }
   ],
   "source": [
    "i = 1\n",
    "total_error = 0\n",
    "for train_index, test_index in kfold.split(X):\n",
    "    x_train_fold, x_test_fold = X[train_index], X[test_index]\n",
    "    y_train_fold, y_test_fold = Y[train_index], Y[test_index]\n",
    "    lgbm_pred_fold = lgbm_fold.fit(x_train_fold, y_train_fold).predict(x_test_fold)\n",
    "    error = mean_squared_error(lgbm_pred_fold, y_test_fold)\n",
    "    print('Fold = {}, prediction score = {:.2f}'.format(i, error))\n",
    "    total_error += error\n",
    "    i+=1\n",
    "print('---'*10)\n",
    "print('Average Error: %s' % (total_error / n_splits))"
   ]
  },
  {
   "cell_type": "code",
   "execution_count": null,
   "id": "550da98a-741a-45ff-925c-5a48b6a7ee25",
   "metadata": {},
   "outputs": [],
   "source": []
  }
 ],
 "metadata": {
  "kernelspec": {
   "display_name": "Python 3",
   "language": "python",
   "name": "python3"
  },
  "language_info": {
   "codemirror_mode": {
    "name": "ipython",
    "version": 3
   },
   "file_extension": ".py",
   "mimetype": "text/x-python",
   "name": "python",
   "nbconvert_exporter": "python",
   "pygments_lexer": "ipython3",
   "version": "3.8.8"
  }
 },
 "nbformat": 4,
 "nbformat_minor": 5
}
