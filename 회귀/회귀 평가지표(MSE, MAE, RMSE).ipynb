{
 "cells": [
  {
   "cell_type": "code",
   "execution_count": 1,
   "id": "c3f0ecbf-fe98-48e3-9924-b7ad8255615c",
   "metadata": {},
   "outputs": [],
   "source": [
    "import pandas as pd\n",
    "import numpy as np\n",
    "from sklearn.model_selection import train_test_split\n",
    "\n",
    "import warnings\n",
    "\n",
    "warnings.filterwarnings('ignore')\n",
    "\n",
    "np.set_printoptions(suppress=True) #수치형값 순정으로 나오게"
   ]
  },
  {
   "cell_type": "code",
   "execution_count": 2,
   "id": "7f8783b3-101c-4eb6-beac-32dfb92a563f",
   "metadata": {},
   "outputs": [],
   "source": [
    "from sklearn.datasets import load_boston\n",
    "data = load_boston()\n",
    "\n",
    "df = pd.DataFrame(data['data'], columns = data['feature_names'])\n",
    "df['MEDV'] = data['target']\n",
    "x_train, x_valid, y_train, y_valid = train_test_split(df.drop('MEDV',1), df['MEDV'])"
   ]
  },
  {
   "cell_type": "code",
   "execution_count": null,
   "id": "93bcfe02-f4c7-42ba-bd56-68f1c0b3b97c",
   "metadata": {},
   "outputs": [],
   "source": [
    "\"\"\"\n",
    "MSE( Mean Squared Error): 예측값과 실제값의 차이에 대한 제곱에 대하여 평균을 낸 값\n",
    "MAE( Mean Absolute Error): 예측값과 실제값의 차이에 대한 절대값에 대하여 평균을 낸 값\n",
    "RSME( Root Mean Squared Error): 예측값과 실제값의 차이에 대한 제곱에 대하여 평균을 낸 뒤 루트를 씌운 값\n",
    "\"\"\""
   ]
  },
  {
   "cell_type": "code",
   "execution_count": 3,
   "id": "67b26208-71e0-4835-8876-04f399712eb0",
   "metadata": {},
   "outputs": [],
   "source": [
    "#평가 지표 만들기"
   ]
  },
  {
   "cell_type": "code",
   "execution_count": 4,
   "id": "2523e60f-3a6e-4b23-9152-b2f267d20c2d",
   "metadata": {},
   "outputs": [],
   "source": [
    "pred = np.array([3,4,5])\n",
    "actual = np.array([1,2,3])"
   ]
  },
  {
   "cell_type": "code",
   "execution_count": 6,
   "id": "92874d0e-f7fb-4a9c-b461-185a1e021e07",
   "metadata": {},
   "outputs": [],
   "source": [
    "def my_mse(pred, actual):\n",
    "    return ((pred - actual)**2).mean()"
   ]
  },
  {
   "cell_type": "code",
   "execution_count": 7,
   "id": "01db0db6-2ec4-470a-ae11-7e5d2620509e",
   "metadata": {},
   "outputs": [
    {
     "data": {
      "text/plain": [
       "4.0"
      ]
     },
     "execution_count": 7,
     "metadata": {},
     "output_type": "execute_result"
    }
   ],
   "source": [
    "my_mse(pred, actual)"
   ]
  },
  {
   "cell_type": "code",
   "execution_count": 12,
   "id": "25c402fd-68f4-410a-8ad7-ead991a5e105",
   "metadata": {},
   "outputs": [],
   "source": [
    "def my_mae(pred, actual):\n",
    "    return np.abs(pred - actual).mean()"
   ]
  },
  {
   "cell_type": "code",
   "execution_count": 13,
   "id": "888c868e-f531-4efd-8ea4-b88621e2e316",
   "metadata": {},
   "outputs": [
    {
     "data": {
      "text/plain": [
       "2.0"
      ]
     },
     "execution_count": 13,
     "metadata": {},
     "output_type": "execute_result"
    }
   ],
   "source": [
    "my_mae(pred, actual)"
   ]
  },
  {
   "cell_type": "code",
   "execution_count": 15,
   "id": "1c591bb4-87e6-418c-ae25-22158a26e5bf",
   "metadata": {},
   "outputs": [],
   "source": [
    "def my_rmse(pred, actual):\n",
    "    return np.sqrt(my_mse(pred, actual))"
   ]
  },
  {
   "cell_type": "code",
   "execution_count": 16,
   "id": "98d83bf9-8071-481d-8323-b73214a783ea",
   "metadata": {},
   "outputs": [
    {
     "data": {
      "text/plain": [
       "2.0"
      ]
     },
     "execution_count": 16,
     "metadata": {},
     "output_type": "execute_result"
    }
   ],
   "source": [
    "my_rmse(pred, actual)"
   ]
  },
  {
   "cell_type": "code",
   "execution_count": null,
   "id": "c721cff4-6c82-489c-84ac-3ebb67b20544",
   "metadata": {},
   "outputs": [],
   "source": [
    "#sklearn 평가 지표 활용하기"
   ]
  },
  {
   "cell_type": "code",
   "execution_count": 17,
   "id": "1a673202-94fb-43d3-b497-bf2ca3cc9b57",
   "metadata": {},
   "outputs": [],
   "source": [
    "from sklearn.metrics import mean_absolute_error, mean_squared_error"
   ]
  },
  {
   "cell_type": "code",
   "execution_count": 18,
   "id": "aa60fb3a-e530-4d74-a6a6-6eb4ee423423",
   "metadata": {},
   "outputs": [
    {
     "data": {
      "text/plain": [
       "2.0"
      ]
     },
     "execution_count": 18,
     "metadata": {},
     "output_type": "execute_result"
    }
   ],
   "source": [
    "mean_absolute_error(pred, actual)"
   ]
  },
  {
   "cell_type": "code",
   "execution_count": 19,
   "id": "a16802f0-c449-469c-aa1f-7893a5f44369",
   "metadata": {},
   "outputs": [
    {
     "data": {
      "text/plain": [
       "4.0"
      ]
     },
     "execution_count": 19,
     "metadata": {},
     "output_type": "execute_result"
    }
   ],
   "source": [
    "mean_squared_error(pred, actual)"
   ]
  },
  {
   "cell_type": "code",
   "execution_count": 20,
   "id": "e83b4ace-435d-4f87-87b9-20e11ce3e764",
   "metadata": {},
   "outputs": [],
   "source": [
    "#모델별 성능 확인을 위한 함수\n",
    "\n",
    "import matplotlib.pyplot as plt\n",
    "import seaborn as sns\n",
    "\n",
    "my_predictions = {}\n",
    "\n",
    "colors = ['r', 'c', 'm', 'y', 'k', 'khaki', 'teal', 'orchid', 'sandybrown',\n",
    "          'greenyellow', 'dodgerblue', 'deepskyblue', 'rosybrown', 'firebrick',\n",
    "          'deeppink', 'crimson', 'salmon', 'darkred', 'olivedrab', 'olive', \n",
    "          'forestgreen', 'royalblue', 'indigo', 'navy', 'mediumpurple', 'chocolate',\n",
    "          'gold', 'darkorange', 'seagreen', 'turquoise', 'steelblue', 'slategray', \n",
    "          'peru', 'midnightblue', 'slateblue', 'dimgray', 'cadetblue', 'tomato'\n",
    "         ]\n",
    "\n",
    "def plot_predictions(name_, pred, actual):\n",
    "    df = pd.DataFrame({'prediction': pred, 'actual': y_test})\n",
    "    df = df.sort_values(by='actual').reset_index(drop=True)\n",
    "\n",
    "    plt.figure(figsize=(12, 9))\n",
    "    plt.scatter(df.index, df['prediction'], marker='x', color='r')\n",
    "    plt.scatter(df.index, df['actual'], alpha=0.7, marker='o', color='black')\n",
    "    plt.title(name_, fontsize=15)\n",
    "    plt.legend(['prediction', 'actual'], fontsize=12)\n",
    "    plt.show()\n",
    "\n",
    "def mse_eval(name_, pred, actual):\n",
    "    global predictions\n",
    "    global colors\n",
    "\n",
    "    plot_predictions(name_, pred, actual)\n",
    "\n",
    "    mse = mean_squared_error(pred, actual)\n",
    "    my_predictions[name_] = mse\n",
    "\n",
    "    y_value = sorted(my_predictions.items(), key=lambda x: x[1], reverse=True)\n",
    "    \n",
    "    df = pd.DataFrame(y_value, columns=['model', 'mse'])\n",
    "    print(df)\n",
    "    min_ = df['mse'].min() - 10\n",
    "    max_ = df['mse'].max() + 10\n",
    "    \n",
    "    length = len(df)\n",
    "    \n",
    "    plt.figure(figsize=(10, length))\n",
    "    ax = plt.subplot()\n",
    "    ax.set_yticks(np.arange(len(df)))\n",
    "    ax.set_yticklabels(df['model'], fontsize=15)\n",
    "    bars = ax.barh(np.arange(len(df)), df['mse'])\n",
    "    \n",
    "    for i, v in enumerate(df['mse']):\n",
    "        idx = np.random.choice(len(colors))\n",
    "        bars[i].set_color(colors[idx])\n",
    "        ax.text(v + 2, i, str(round(v, 3)), color='k', fontsize=15, fontweight='bold')\n",
    "        \n",
    "    plt.title('MSE Error', fontsize=18)\n",
    "    plt.xlim(min_, max_)\n",
    "    \n",
    "    plt.show()\n",
    "\n",
    "def remove_model(name_):\n",
    "    global my_predictions\n",
    "    try:\n",
    "        del my_predictions[name_]\n",
    "    except KeyError:\n",
    "        return False\n",
    "    return True"
   ]
  },
  {
   "cell_type": "code",
   "execution_count": null,
   "id": "024c1583-98e1-4dbf-be95-4833b7e94d90",
   "metadata": {},
   "outputs": [],
   "source": []
  }
 ],
 "metadata": {
  "kernelspec": {
   "display_name": "Python 3",
   "language": "python",
   "name": "python3"
  },
  "language_info": {
   "codemirror_mode": {
    "name": "ipython",
    "version": 3
   },
   "file_extension": ".py",
   "mimetype": "text/x-python",
   "name": "python",
   "nbconvert_exporter": "python",
   "pygments_lexer": "ipython3",
   "version": "3.8.8"
  }
 },
 "nbformat": 4,
 "nbformat_minor": 5
}
