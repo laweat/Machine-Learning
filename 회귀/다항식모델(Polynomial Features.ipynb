{
 "cells": [
  {
   "cell_type": "code",
   "execution_count": null,
   "id": "572395dd-5b62-4957-9965-310c643ac254",
   "metadata": {},
   "outputs": [],
   "source": [
    "\"\"\"\n",
    "다항식의 계수간 상호작용을 통해 새로운 feature 를 생성합니다.\n",
    "예를들면, [a,b] 2개의 feature가 존재한다 가정하고,\n",
    "degree = 2로 설정힌다면 polynomial feautures는 [1,a,b,a^2,ab,b^2] 가 됩니다\n",
    "\"\"\""
   ]
  },
  {
   "cell_type": "code",
   "execution_count": 23,
   "id": "ba983457-3e21-4d7e-98bc-5494d5c2f412",
   "metadata": {},
   "outputs": [],
   "source": [
    "from sklearn.datasets import load_boston\n",
    "data = load_boston()\n",
    "\n",
    "df = pd.DataFrame(data['data'], columns = data['feature_names'])\n",
    "df['MEDV'] = data['target']\n",
    "x_train, x_valid, y_train, y_valid = train_test_split(df.drop('MEDV',1), df['MEDV'])\n",
    "\n",
    "#모델별 성능 확인을 위한 함수\n",
    "\n",
    "import matplotlib.pyplot as plt\n",
    "import seaborn as sns\n",
    "\n",
    "my_predictions = {}\n",
    "\n",
    "colors = ['r', 'c', 'm', 'y', 'k', 'khaki', 'teal', 'orchid', 'sandybrown',\n",
    "          'greenyellow', 'dodgerblue', 'deepskyblue', 'rosybrown', 'firebrick',\n",
    "          'deeppink', 'crimson', 'salmon', 'darkred', 'olivedrab', 'olive', \n",
    "          'forestgreen', 'royalblue', 'indigo', 'navy', 'mediumpurple', 'chocolate',\n",
    "          'gold', 'darkorange', 'seagreen', 'turquoise', 'steelblue', 'slategray', \n",
    "          'peru', 'midnightblue', 'slateblue', 'dimgray', 'cadetblue', 'tomato'\n",
    "         ]\n",
    "\n",
    "def plot_predictions(name_, pred, actual):\n",
    "    df = pd.DataFrame({'prediction': pred, 'actual': y_valid})\n",
    "    df = df.sort_values(by='actual').reset_index(drop=True)\n",
    "\n",
    "    plt.figure(figsize=(12, 9))\n",
    "    plt.scatter(df.index, df['prediction'], marker='x', color='r')\n",
    "    plt.scatter(df.index, df['actual'], alpha=0.7, marker='o', color='black')\n",
    "    plt.title(name_, fontsize=15)\n",
    "    plt.legend(['prediction', 'actual'], fontsize=12)\n",
    "    plt.show()\n",
    "\n",
    "def mse_eval(name_, pred, actual):\n",
    "    global predictions\n",
    "    global colors\n",
    "\n",
    "    plot_predictions(name_, pred, actual)\n",
    "\n",
    "    mse = mean_squared_error(pred, actual)\n",
    "    my_predictions[name_] = mse\n",
    "\n",
    "    y_value = sorted(my_predictions.items(), key=lambda x: x[1], reverse=True)\n",
    "    \n",
    "    df = pd.DataFrame(y_value, columns=['model', 'mse'])\n",
    "    print(df)\n",
    "    min_ = df['mse'].min() - 10\n",
    "    max_ = df['mse'].max() + 10\n",
    "    \n",
    "    length = len(df)\n",
    "    \n",
    "    plt.figure(figsize=(10, length))\n",
    "    ax = plt.subplot()\n",
    "    ax.set_yticks(np.arange(len(df)))\n",
    "    ax.set_yticklabels(df['model'], fontsize=15)\n",
    "    bars = ax.barh(np.arange(len(df)), df['mse'])\n",
    "    \n",
    "    for i, v in enumerate(df['mse']):\n",
    "        idx = np.random.choice(len(colors))\n",
    "        bars[i].set_color(colors[idx])\n",
    "        ax.text(v + 2, i, str(round(v, 3)), color='k', fontsize=15, fontweight='bold')\n",
    "        \n",
    "    plt.title('MSE Error', fontsize=18)\n",
    "    plt.xlim(min_, max_)\n",
    "    \n",
    "    plt.show()\n",
    "\n",
    "def remove_model(name_):\n",
    "    global my_predictions\n",
    "    try:\n",
    "        del my_predictions[name_]\n",
    "    except KeyError:\n",
    "        return False\n",
    "    return True"
   ]
  },
  {
   "cell_type": "code",
   "execution_count": 5,
   "id": "50843ff8-e926-42e9-9526-77230f93eab1",
   "metadata": {},
   "outputs": [],
   "source": [
    "poly = PolynomialFeatures(degree = 2, include_bias=False)"
   ]
  },
  {
   "cell_type": "code",
   "execution_count": 11,
   "id": "fc645dd1-2ef5-46db-a3fa-47f44e3a35ba",
   "metadata": {},
   "outputs": [],
   "source": [
    "poly_features = poly.fit_transform(x_train)[0]"
   ]
  },
  {
   "cell_type": "code",
   "execution_count": 8,
   "id": "67b15d67-32b8-4e81-99eb-bdd22e30ad14",
   "metadata": {},
   "outputs": [
    {
     "data": {
      "text/plain": [
       "array([[     0.24522,      0.     ,      9.9    , ..., 157529.61   ,\n",
       "          6326.586  ,    254.0836 ],\n",
       "       [     4.83567,      0.     ,     18.1    , ..., 150714.7684 ,\n",
       "          4445.119  ,    131.1025 ],\n",
       "       [     1.80028,      0.     ,     19.58   , ...,  51806.3121 ,\n",
       "          2763.1854 ,    147.3796 ],\n",
       "       ...,\n",
       "       [     0.09068,     45.     ,      3.44   , ..., 142642.1824 ,\n",
       "          1926.168  ,     26.01   ],\n",
       "       [     0.01439,     60.     ,      2.93   , ..., 141902.89   ,\n",
       "          1649.946  ,     19.1844 ],\n",
       "       [     0.17134,      0.     ,     10.01   , ..., 118962.9081 ,\n",
       "          5435.7816 ,    248.3776 ]])"
      ]
     },
     "execution_count": 8,
     "metadata": {},
     "output_type": "execute_result"
    }
   ],
   "source": [
    "poly_features"
   ]
  },
  {
   "cell_type": "code",
   "execution_count": 9,
   "id": "5f80a51a-043a-4822-ba88-a487723dd8be",
   "metadata": {},
   "outputs": [
    {
     "data": {
      "text/plain": [
       "CRIM         0.24522\n",
       "ZN           0.00000\n",
       "INDUS        9.90000\n",
       "CHAS         0.00000\n",
       "NOX          0.54400\n",
       "RM           5.78200\n",
       "AGE         71.70000\n",
       "DIS          4.03170\n",
       "RAD          4.00000\n",
       "TAX        304.00000\n",
       "PTRATIO     18.40000\n",
       "B          396.90000\n",
       "LSTAT       15.94000\n",
       "Name: 317, dtype: float64"
      ]
     },
     "execution_count": 9,
     "metadata": {},
     "output_type": "execute_result"
    }
   ],
   "source": [
    "x_train.iloc[0]"
   ]
  },
  {
   "cell_type": "code",
   "execution_count": 25,
   "id": "1e9e8e08-4faa-4030-a3e7-e6386c134f8e",
   "metadata": {},
   "outputs": [],
   "source": [
    "poly_pipeline = make_pipeline(\n",
    "    PolynomialFeatures(degree = 2 , include_bias= False),\n",
    "    StandardScaler(),\n",
    "    ElasticNet(alpha = 0.1, l1_ratio=0.2)\n",
    ")"
   ]
  },
  {
   "cell_type": "code",
   "execution_count": 28,
   "id": "c62362ec-b147-4f6d-b141-814f1ce7e078",
   "metadata": {},
   "outputs": [],
   "source": [
    "poly_pred = poly_pipeline.fit(x_train, y_train).predict(x_valid)"
   ]
  },
  {
   "cell_type": "code",
   "execution_count": 29,
   "id": "067ff1b1-c11d-4fe9-b62f-502349761de8",
   "metadata": {},
   "outputs": [
    {
     "data": {
      "image/png": "[encoded data removed]",
      "text/plain": [
       "<Figure size 864x648 with 1 Axes>"
      ]
     },
     "metadata": {
      "needs_background": "light"
     },
     "output_type": "display_data"
    },
    {
     "name": "stdout",
     "output_type": "stream",
     "text": [
      "             model        mse\n",
      "0  Poly ElasticNet  13.523376\n"
     ]
    },
    {
     "data": {
      "image/png": "[encoded data removed]",
      "text/plain": [
       "<Figure size 720x72 with 1 Axes>"
      ]
     },
     "metadata": {
      "needs_background": "light"
     },
     "output_type": "display_data"
    }
   ],
   "source": [
    "mse_eval('Poly ElasticNet', poly_pred, y_valid)"
   ]
  },
  {
   "cell_type": "code",
   "execution_count": null,
   "id": "57b07ce1-573c-44e7-b245-33611a131f4a",
   "metadata": {},
   "outputs": [],
   "source": []
  }
 ],
 "metadata": {
  "kernelspec": {
   "display_name": "Python 3",
   "language": "python",
   "name": "python3"
  },
  "language_info": {
   "codemirror_mode": {
    "name": "ipython",
    "version": 3
   },
   "file_extension": ".py",
   "mimetype": "text/x-python",
   "name": "python",
   "nbconvert_exporter": "python",
   "pygments_lexer": "ipython3",
   "version": "3.8.8"
  }
 },
 "nbformat": 4,
 "nbformat_minor": 5
}
